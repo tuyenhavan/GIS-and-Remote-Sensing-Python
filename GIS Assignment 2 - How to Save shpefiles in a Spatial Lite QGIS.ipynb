{
 "cells": [
  {
   "cell_type": "markdown",
   "metadata": {},
   "source": [
    "# Import library"
   ]
  },
  {
   "cell_type": "code",
   "execution_count": 43,
   "metadata": {},
   "outputs": [],
   "source": [
    "import geopandas as gpd\n",
    "import os\n",
    "import fiona\n",
    "import sqlalchemy \n",
    "%matplotlib inline"
   ]
  },
  {
   "cell_type": "markdown",
   "metadata": {},
   "source": [
    "# Set-up environment "
   ]
  },
  {
   "cell_type": "code",
   "execution_count": 44,
   "metadata": {},
   "outputs": [],
   "source": [
    "open_path=r\"C:\\Users\\DELL\\OneDrive - tuaf.edu.vn\\TUAF\\Python_Tutorial\\All_points\"\n",
    "\n",
    "im_path=r\"C:\\Users\\DELL\\Desktop\\Python\\Spatial_Lite\""
   ]
  },
  {
   "cell_type": "code",
   "execution_count": 45,
   "metadata": {},
   "outputs": [],
   "source": [
    "for i in os.listdir(open_path):\n",
    "    if i.endswith(\".shp\"):\n",
    "        myfile=gpd.read_file(os.path.join(open_path,i))\n",
    "        if os.path.exists(os.path.join(im_path,i)):\n",
    "            pass\n",
    "        else: myfile.to_file(os.path.join(im_path,i))\n",
    "\n",
    "            "
   ]
  },
  {
   "cell_type": "code",
   "execution_count": null,
   "metadata": {},
   "outputs": [],
   "source": []
  }
 ],
 "metadata": {
  "kernelspec": {
   "display_name": "Python 3",
   "language": "python",
   "name": "python3"
  },
  "language_info": {
   "codemirror_mode": {
    "name": "ipython",
    "version": 3
   },
   "file_extension": ".py",
   "mimetype": "text/x-python",
   "name": "python",
   "nbconvert_exporter": "python",
   "pygments_lexer": "ipython3",
   "version": "3.8.5"
  }
 },
 "nbformat": 4,
 "nbformat_minor": 4
}
