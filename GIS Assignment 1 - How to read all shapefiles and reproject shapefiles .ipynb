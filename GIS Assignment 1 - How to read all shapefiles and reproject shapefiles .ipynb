{
 "cells": [
  {
   "cell_type": "markdown",
   "metadata": {},
   "source": [
    "# GIS Python"
   ]
  },
  {
   "cell_type": "raw",
   "metadata": {},
   "source": [
    "Given a vector dataset. Your tasks are:\n",
    "1. To read all shapefiles in Python and check if anything wrong with projection. If wrong or None projection, correct it.\n",
    "2. To calculate areas of all features and save it in a new column if a given shapefile is polygon\n",
    "3. To calculate length of all features and save it in a new column if a given shapefile is linestring\n",
    "4. To create X,Y coordinate column if a given shapefile is point feature \n",
    "5. To create points from all polygons and merge all point feature together. Similarly, creating points from line features, and then merge all points from polygon and linstring together. Save it in a new folder.\n",
    "6. Extract attribute table from polygon, line (length) and points (x,y)"
   ]
  },
  {
   "cell_type": "markdown",
   "metadata": {},
   "source": [
    "### Import Python library"
   ]
  },
  {
   "cell_type": "code",
   "execution_count": 1,
   "metadata": {},
   "outputs": [],
   "source": [
    "import shapely as shp\n",
    "import os\n",
    "import sys\n",
    "import pandas as pd\n",
    "import numpy as np \n",
    "import sklearn as sk\n",
    "import gdal as gd\n",
    "import geopandas as gpd\n",
    "from fiona.crs import from_epsg"
   ]
  },
  {
   "cell_type": "markdown",
   "metadata": {},
   "source": [
    "##### 1. Read all shapefiles in Python"
   ]
  },
  {
   "cell_type": "code",
   "execution_count": 2,
   "metadata": {},
   "outputs": [
    {
     "name": "stdout",
     "output_type": "stream",
     "text": [
      "An example:  C:\\Users\\DELL\\OneDrive - tuaf.edu.vn\\TUAF\\Python_Tutorial\\DoDoc.shp\n",
      "Total number of shapefiles= 21\n",
      "None\n"
     ]
    }
   ],
   "source": [
    "# Using geopandas to read files\n",
    "path=r\"C:\\Users\\DELL\\OneDrive - tuaf.edu.vn\\TUAF\\Python_Tutorial\" # Define the data path\n",
    "\n",
    "files=os.listdir(path)\n",
    "# Save all shapefiles in a list\n",
    "\n",
    "shape1=[]\n",
    "\n",
    "for shape_file in files:\n",
    "    if shape_file.endswith(\".shp\"):\n",
    "        \n",
    "        shape1.append(os.path.join(path,shape_file))\n",
    "        \n",
    "print(\"An example: \",shape1[2])\n",
    "# Calculate the numbers of shapefile in shape1 list\n",
    "sum1=0\n",
    "\n",
    "for i in shape1:\n",
    "    a=shape1.count(i)\n",
    "    sum1+=a\n",
    "print(\"Total number of shapefiles=\",sum1)\n",
    "\n",
    "for shape_file in shape1:\n",
    "    myfile=gpd.read_file(shape_file) # Read all shapefiles available \n",
    "    print(myfile.crs.to_epsg())\n",
    "    break\n"
   ]
  },
  {
   "cell_type": "markdown",
   "metadata": {},
   "source": [
    "##### 2. Check the projection, reproject and define new project of no projection and save it in to three geometry folders"
   ]
  },
  {
   "cell_type": "markdown",
   "metadata": {},
   "source": [
    "###### 2a. Make new folders"
   ]
  },
  {
   "cell_type": "code",
   "execution_count": 3,
   "metadata": {},
   "outputs": [],
   "source": [
    "# Create three folders including Polygon, Linestring, Points\n",
    "## Polygon folder\n",
    "\n",
    "Polygon=os.path.join(path,\"Polygon\")\n",
    "if os.path.exists(Polygon):\n",
    "    pass\n",
    "else:\n",
    "    os.mkdir(Polygon)\n",
    "\n",
    "# Linestring folder\n",
    "\n",
    "Linestring=os.path.join(path,\"Linestring\")\n",
    "if os.path.exists(Linestring):\n",
    "    pass\n",
    "else:\n",
    "    os.mkdir(Linestring)\n",
    "\n",
    "# Points folder\n",
    "\n",
    "Points=os.path.join(path,\"Points\")\n",
    "if os.path.exists(Points):\n",
    "    pass\n",
    "else:\n",
    "    os.mkdir(Points)\n",
    "\n",
    "All_points=os.path.join(path,\"All_points\")\n",
    "\n",
    "if os.path.exists(All_points):\n",
    "    pass\n",
    "else:\n",
    "    os.mkdir(All_points)"
   ]
  },
  {
   "cell_type": "code",
   "execution_count": 4,
   "metadata": {},
   "outputs": [
    {
     "data": {
      "text/plain": [
       "'C:\\\\Users\\\\DELL\\\\OneDrive - tuaf.edu.vn\\\\TUAF\\\\Python_Tutorial\\\\DoDoc.csv'"
      ]
     },
     "execution_count": 4,
     "metadata": {},
     "output_type": "execute_result"
    }
   ],
   "source": [
    "# Test to connect folders with new names by replacing .shp by .csv\n",
    "os.path.join(Points,shape1[2][0:-4]+\".csv\")\n"
   ]
  },
  {
   "cell_type": "markdown",
   "metadata": {},
   "source": [
    "###### 2a. Check projection, reprojection and defining new projection "
   ]
  },
  {
   "cell_type": "code",
   "execution_count": 5,
   "metadata": {},
   "outputs": [],
   "source": [
    "\n",
    "for shape_file in shape1:\n",
    "    myfile=gpd.read_file(shape_file) # Read all shapefiles available \n",
    "    try:\n",
    "        if myfile.crs.to_epsg()==32648:\n",
    "            if \"POLYGON\" in myfile.geometry.geom_type[0].upper(): # Check if the shape is a Polygon\n",
    "                myfile[\"Area\"]=round(myfile.geometry.area,2) # Calculate the area of each Polygon\n",
    "                myfile[\"Centroid\"]=myfile.geometry.centroid\n",
    "                poly=myfile.drop([\"geometry\"],axis=1)\n",
    "                poly=poly.rename(columns={\"Centroid\":\"geometry\"},inplace=False)\n",
    "                poly.to_csv(os.path.join(Polygon,os.path.basename(shape_file[0:-4]) +\".csv\"))\n",
    "                poly.to_file(os.path.join(All_points,os.path.basename(shape_file)))\n",
    "\n",
    "            elif \"LINESTRING\" in myfile.geometry.geom_type[0].upper():\n",
    "                myfile[\"Distance\"]=round(myfile.geometry.length,2)\n",
    "                myfile[\"Centroid\"]=myfile.geometry.centroid\n",
    "                lines=myfile.drop([\"geometry\"],axis=1)\n",
    "                lines=lines.rename(columns={\"Centroid\":\"geometry\"},inplace=False)\n",
    "                lines.to_csv(os.path.join(Linestring,os.path.basename(shape_file[0:-4])+\".csv\"))\n",
    "                lines.to_file(os.path.join(All_points,os.path.basename(shape_file)))\n",
    "\n",
    "            else:\n",
    "                myfile[\"Long\"]=myfile.geometry.x\n",
    "                myfile[\"Lat\"]=myfile.geometry.y\n",
    "                myfile.to_csv(os.path.join(Points,os.path.basename(shape_file[0:-4]) +\".csv\"))\n",
    "                myfile.to_file(os.path.join(All_points,os.path.basename(shape_file)))\n",
    "\n",
    "\n",
    "        else: \n",
    "            myfile.to_crs(epsg=32648) # Wrong coordinate, reproject it\n",
    "            if \"POLYGON\" in myfile.geometry.geom_type[0].upper():\n",
    "                myfile[\"Area\"]=round(myfile.geometry.area,2)\n",
    "                myfile[\"Centroid\"]=myfile.geometry.centroid\n",
    "                poly=myfile.drop([\"geometry\"],axis=1)\n",
    "                poly=poly.rename(columns={\"Centroid\":\"geometry\"},inplace=False)\n",
    "                poly.to_csv(os.path.join(Polygon,os.path.basename(shape_file[0:-4])+\".csv\"))\n",
    "                poly.to_file(os.path.join(All_points,os.path.basename(shape_file)))\n",
    "                \n",
    "            elif \"LINESTRING\" in myfile.geometry.geom_type[0].upper():\n",
    "                myfile[\"Distance\"]=myfile.geometry.length\n",
    "                myfile[\"Centroid\"]=myfile.geometry.centroid\n",
    "                lines=myfile.drop([\"geometry\"],axis=1)\n",
    "                lines=lines.rename(columns={\"Centroid\":\"geometry\"},inplace=False)\n",
    "                lines.to_csv(os.path.join(Linestring,os.path.basename(shape_file[0:-4])+\".csv\"))\n",
    "                poly.to_file(os.path.join(All_points,os.path.basename(shape_file)))\n",
    "                \n",
    "            else: # If Points \n",
    "                myfile[\"Long\"]=myfile.geometry.x\n",
    "                myfile[\"Lat\"]=myfile.geometry.y\n",
    "                myfile.to_file(os.path.join(All_points,os.path.basename(shape_file)))\n",
    "\n",
    "\n",
    "    except AttributeError:\n",
    "        myfile.set_crs(epsg=32648,allow_override=True)\n",
    "        if \"POLYGON\" in myfile.geometry.geom_type[0].upper():\n",
    "            myfile[\"Area\"]=myfile.geometry.area\n",
    "            myfile[\"Centroid\"]=myfile.geometry.centroid\n",
    "            poly=myfile.drop([\"geometry\"],axis=1)\n",
    "            poly=poly.rename(columns={\"Centroid\":\"geometry\"},inplace=False)\n",
    "            poly.to_csv(os.path.join(Polygon,os.path.basename(shape_file[0:-4])+\".csv\"))\n",
    "            myfile.to_file(os.path.join(All_points,os.path.basename(shape_file)))\n",
    "\n",
    "        elif \"LINESTRING\" in myfile.geometry.geom_type[0].upper():\n",
    "            myfile[\"Distance\"]=myfile.geometry.length\n",
    "            myfile[\"Centroid\"]=myfile.geometry.centroid\n",
    "            lines=myfile.drop([\"geometry\"],axis=1)\n",
    "            lines=lines.rename(columns={\"Centroid\":\"geometry\"},inplace=False)\n",
    "            lines.to_csv(os.path.join(Linestring,os.path.basename(shape_file[0:-4])+\".csv\"))\n",
    "            myfile.to_file(os.path.join(All_points,os.path.basename(shape_file)))\n",
    "\n",
    "        else:\n",
    "            myfile[\"Long\"]=myfile.geometry.x\n",
    "            myfile[\"Lat\"]=myfile.geometry.y\n",
    "            myfile.to_csv(os.path.join(Points,os.path.basename(shape_file[0:-4])+\".csv\"))\n",
    "            myfile.to_file(os.path.join(All_points,os.path.basename(shape_file)))\n",
    "\n"
   ]
  },
  {
   "cell_type": "markdown",
   "metadata": {},
   "source": [
    "### Testing rename method if drop geometry and rename it "
   ]
  },
  {
   "cell_type": "code",
   "execution_count": 12,
   "metadata": {},
   "outputs": [
    {
     "data": {
      "image/png": "[encoded data removed]",
      "text/plain": [
       "<Figure size 432x288 with 1 Axes>"
      ]
     },
     "metadata": {
      "needs_background": "light"
     },
     "output_type": "display_data"
    }
   ],
   "source": [
    "import geopandas as gpd\n",
    "mydic=r\"C:\\Users\\DELL\\OneDrive - tuaf.edu.vn\\TUAF\\Python_Tutorial\\Duongdien-QTQV.shp\"\n",
    "path1=r\"C:\\Users\\DELL\\OneDrive - tuaf.edu.vn\\TUAF\\Python_Tutorial\\All_points\"\n",
    "myfile=gpd.read_file(mydic)\n",
    "\n",
    "myfile.set_crs(epsg=32648,allow_override=True)\n",
    "\n",
    "myfile[\"Centroid\"]=myfile.geometry.centroid\n",
    "\n",
    "a=myfile\n",
    "\n",
    "b=a.set_geometry(\"Centroid\",inplace=False) # We can set column Centroid to be spatial point\n",
    "\n",
    "myfile=myfile.drop([\"geometry\"],axis=1)\n",
    "\n",
    "myfile.head()\n",
    "\n",
    "myfile=myfile.rename(columns={\"Centroid\":\"geometry\"},inplace=False)\n",
    "\n",
    "myfile.head()\n",
    "\n",
    "myfile.plot()\n",
    "\n",
    "myfile.to_file(os.path.join(path1, os.path.basename(mydic)))"
   ]
  }
 ],
 "metadata": {
  "kernelspec": {
   "display_name": "Python 3",
   "language": "python",
   "name": "python3"
  },
  "language_info": {
   "codemirror_mode": {
    "name": "ipython",
    "version": 3
   },
   "file_extension": ".py",
   "mimetype": "text/x-python",
   "name": "python",
   "nbconvert_exporter": "python",
   "pygments_lexer": "ipython3",
   "version": "3.8.5"
  }
 },
 "nbformat": 4,
 "nbformat_minor": 2
}
