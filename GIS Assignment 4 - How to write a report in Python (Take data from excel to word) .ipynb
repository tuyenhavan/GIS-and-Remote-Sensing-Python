{
 "cells": [
  {
   "cell_type": "markdown",
   "metadata": {},
   "source": [
    "# 1. Load library"
   ]
  },
  {
   "cell_type": "code",
   "execution_count": 1,
   "metadata": {},
   "outputs": [],
   "source": [
    "import pandas as pd\n",
    "import docx\n",
    "import xlrd\n",
    "import re"
   ]
  },
  {
   "cell_type": "markdown",
   "metadata": {},
   "source": [
    "# 2. Reading excel and doc files in Python"
   ]
  },
  {
   "cell_type": "code",
   "execution_count": 2,
   "metadata": {},
   "outputs": [],
   "source": [
    "doc=docx.Document(r\"C:\\Users\\DELL\\OneDrive - tuaf.edu.vn\\TUAF\\Python_Tutorial\\word\\NGA_QACR.docx\")"
   ]
  },
  {
   "cell_type": "code",
   "execution_count": 3,
   "metadata": {},
   "outputs": [],
   "source": [
    "cols=[\"A1\",\"A2\",\"A3\",\"A4\",\"A5\",\"A6\",\"A7\",\"A8\",\"A9\"]\n",
    "\n",
    "excel=pd.read_excel(r\"C:\\Users\\DELL\\OneDrive - tuaf.edu.vn\\TUAF\\Python_Tutorial\\word\\GMAPS-SPEC-DDSF-00098-C_Annexe_Justification_GAIT26.xlsx\",\\\n",
    "                   names=cols)"
   ]
  },
  {
   "cell_type": "code",
   "execution_count": 4,
   "metadata": {},
   "outputs": [
    {
     "data": {
      "text/html": [
       "<div>\n",
       "<style scoped>\n",
       "    .dataframe tbody tr th:only-of-type {\n",
       "        vertical-align: middle;\n",
       "    }\n",
       "\n",
       "    .dataframe tbody tr th {\n",
       "        vertical-align: top;\n",
       "    }\n",
       "\n",
       "    .dataframe thead th {\n",
       "        text-align: right;\n",
       "    }\n",
       "</style>\n",
       "<table border=\"1\" class=\"dataframe\">\n",
       "  <thead>\n",
       "    <tr style=\"text-align: right;\">\n",
       "      <th></th>\n",
       "      <th>A1</th>\n",
       "      <th>A2</th>\n",
       "      <th>A3</th>\n",
       "      <th>A4</th>\n",
       "      <th>A5</th>\n",
       "      <th>A6</th>\n",
       "      <th>A7</th>\n",
       "      <th>A8</th>\n",
       "      <th>A9</th>\n",
       "    </tr>\n",
       "  </thead>\n",
       "  <tbody>\n",
       "    <tr>\n",
       "      <th>0</th>\n",
       "      <td>NON DOMAIN SPECIFIC PICK-LIST ERRORS</td>\n",
       "      <td>ZI004_RCG,VALUE:\"'JOINTGEOBUREAUFRANCE'\"</td>\n",
       "      <td>FT 1237 définissant la ressource française com...</td>\n",
       "      <td>X</td>\n",
       "      <td>X</td>\n",
       "      <td>Mineur</td>\n",
       "      <td>NaN</td>\n",
       "      <td>IGNORED. FRA METADATA PROFILE.</td>\n",
       "      <td>FT 2615</td>\n",
       "    </tr>\n",
       "    <tr>\n",
       "      <th>1</th>\n",
       "      <td>NON DOMAIN SPECIFIC PICK-LIST ERRORS          ...</td>\n",
       "      <td>CPS, VALUE: \"FIXED0R025R\"                     ...</td>\n",
       "      <td>DDSF-FIN-EXG-REQ-195</td>\n",
       "      <td>NO</td>\n",
       "      <td>X</td>\n",
       "      <td>NaN</td>\n",
       "      <td>False positive lorsque le renseignement est co...</td>\n",
       "      <td>IGNORED. FRA METADATA PROFILE.</td>\n",
       "      <td>FT 16642</td>\n",
       "    </tr>\n",
       "    <tr>\n",
       "      <th>2</th>\n",
       "      <td>NON DOMAIN SPECIFIC PICK-LIST ERRORS          ...</td>\n",
       "      <td>ETS, VALUE: \"GMAPS-SPEC-DDSF-00099\"           ...</td>\n",
       "      <td>DDSF-VN4-EXG-REQ-061</td>\n",
       "      <td>X</td>\n",
       "      <td>X</td>\n",
       "      <td>NaN</td>\n",
       "      <td>False positive lorsque le renseignement est co...</td>\n",
       "      <td>IGNORED. FRA METADATA PROFILE.</td>\n",
       "      <td>FT 16642</td>\n",
       "    </tr>\n",
       "    <tr>\n",
       "      <th>3</th>\n",
       "      <td>SINGLE FEATURE MEETING SPECIFIC SPECIFICATION</td>\n",
       "      <td>FEATURES THAT ARE ASSIGNED \"ZSAX_RX4\" OTHER TH...</td>\n",
       "      <td>FT 12925 : CVEnumISMOwnerProducer=FRA dans le ...</td>\n",
       "      <td>X</td>\n",
       "      <td>X</td>\n",
       "      <td>Mineur</td>\n",
       "      <td>NaN</td>\n",
       "      <td>IGNORED. FRA METADATA PROFILE.</td>\n",
       "      <td>FT 2615</td>\n",
       "    </tr>\n",
       "    <tr>\n",
       "      <th>4</th>\n",
       "      <td>SINGLE FEATURE MEETING SPECIFIC SPECIFICATION ...</td>\n",
       "      <td>AREA DATASET FEATURES THAT ARE NOT ASSIGNED \"V...</td>\n",
       "      <td>DDSF-VN4-EXG-REQ-061</td>\n",
       "      <td>X</td>\n",
       "      <td>X</td>\n",
       "      <td>Mineur</td>\n",
       "      <td>False positive lorsque le renseignement est co...</td>\n",
       "      <td>IGNORED. FRA METADATA PROFILE.</td>\n",
       "      <td>FT 16642</td>\n",
       "    </tr>\n",
       "  </tbody>\n",
       "</table>\n",
       "</div>"
      ],
      "text/plain": [
       "                                                  A1  \\\n",
       "0               NON DOMAIN SPECIFIC PICK-LIST ERRORS   \n",
       "1  NON DOMAIN SPECIFIC PICK-LIST ERRORS          ...   \n",
       "2  NON DOMAIN SPECIFIC PICK-LIST ERRORS          ...   \n",
       "3      SINGLE FEATURE MEETING SPECIFIC SPECIFICATION   \n",
       "4  SINGLE FEATURE MEETING SPECIFIC SPECIFICATION ...   \n",
       "\n",
       "                                                  A2  \\\n",
       "0           ZI004_RCG,VALUE:\"'JOINTGEOBUREAUFRANCE'\"   \n",
       "1  CPS, VALUE: \"FIXED0R025R\"                     ...   \n",
       "2  ETS, VALUE: \"GMAPS-SPEC-DDSF-00099\"           ...   \n",
       "3  FEATURES THAT ARE ASSIGNED \"ZSAX_RX4\" OTHER TH...   \n",
       "4  AREA DATASET FEATURES THAT ARE NOT ASSIGNED \"V...   \n",
       "\n",
       "                                                  A3  A4 A5      A6  \\\n",
       "0  FT 1237 définissant la ressource française com...   X  X  Mineur   \n",
       "1                               DDSF-FIN-EXG-REQ-195  NO  X     NaN   \n",
       "2                               DDSF-VN4-EXG-REQ-061   X  X     NaN   \n",
       "3  FT 12925 : CVEnumISMOwnerProducer=FRA dans le ...   X  X  Mineur   \n",
       "4                               DDSF-VN4-EXG-REQ-061   X  X  Mineur   \n",
       "\n",
       "                                                  A7  \\\n",
       "0                                                NaN   \n",
       "1  False positive lorsque le renseignement est co...   \n",
       "2  False positive lorsque le renseignement est co...   \n",
       "3                                                NaN   \n",
       "4  False positive lorsque le renseignement est co...   \n",
       "\n",
       "                               A8        A9  \n",
       "0  IGNORED. FRA METADATA PROFILE.   FT 2615  \n",
       "1  IGNORED. FRA METADATA PROFILE.  FT 16642  \n",
       "2  IGNORED. FRA METADATA PROFILE.  FT 16642  \n",
       "3  IGNORED. FRA METADATA PROFILE.   FT 2615  \n",
       "4  IGNORED. FRA METADATA PROFILE.  FT 16642  "
      ]
     },
     "execution_count": 4,
     "metadata": {},
     "output_type": "execute_result"
    }
   ],
   "source": [
    "excel[\"A1\"]=excel.A1.str.upper()\n",
    "\n",
    "excel[\"A2\"]=excel.A2.str.upper()\n",
    "\n",
    "excel[\"A4\"]=excel.A4.fillna(\"No\").str.upper()\n",
    "excel[\"A4\"]=excel.A4.str.upper()\n",
    "\n",
    "excel[\"A8\"]=excel.A8.str.upper()\n",
    "\n",
    "excel.head()"
   ]
  },
  {
   "cell_type": "code",
   "execution_count": 6,
   "metadata": {},
   "outputs": [],
   "source": [
    "for eachline in range(1,len(doc.tables[1].rows)):\n",
    "    \n",
    "    for line in range(len(excel)):\n",
    "        if doc.tables[1].cell(eachline,1).text.strip().upper()==excel.A1[line] \\\n",
    "        and doc.tables[1].cell(eachline,2).text.strip().upper()==excel.A2[line]:\n",
    "            if excel.A4[line]==\"X\":\n",
    "                             \n",
    "                doc.tables[1].cell(eachline,5).text=excel.A8[line]\n",
    "\n",
    "            else:\n",
    "                \n",
    "                doc.tables[1].cell(eachline,4).text=excel.A8[line]\n",
    "\n",
    "        else:\n",
    "            pass\n",
    "            \n",
    "# doc.save(r\"C:\\Users\\DELL\\OneDrive - tuaf.edu.vn\\TUAF\\Python_Tutorial\\Polygon\\Ha.docx\")"
   ]
  },
  {
   "cell_type": "markdown",
   "metadata": {},
   "source": [
    "## Extra Material from Huy"
   ]
  },
  {
   "cell_type": "code",
   "execution_count": 35,
   "metadata": {},
   "outputs": [],
   "source": [
    "wb = xlrd.open_workbook(r\"C:\\Users\\DELL\\OneDrive - tuaf.edu.vn\\TUAF\\Python_Tutorial\\word\\GMAPS-SPEC-DDSF-00098-C_Annexe_Justification_GAIT26.xlsx\")\n",
    "sheet = wb.sheet_by_index(0)    \n"
   ]
  },
  {
   "cell_type": "code",
   "execution_count": 110,
   "metadata": {},
   "outputs": [],
   "source": [
    "def runanalysis(excel_path,word_path):\n",
    "        doc = docx.Document(word_path)\n",
    "        #wb = openpyxl.load_workbook('GMAPS-SPEC-DDSF-00098-C_Annexe_Justification_GAIT26.xlsx')\n",
    "        #sht = wb['VN4 Justifications GAIT26']\n",
    "        list_excel = []\n",
    "        wb = xlrd.open_workbook(excel_path)\n",
    "        sheet = wb.sheet_by_index(0)\n",
    "\n",
    "        for i in range(sheet.nrows):\n",
    "                list_excel.append(sheet.row_values(i))\n",
    "        list_excel.pop(0)\n",
    "        table1 = doc.tables[1]\n",
    "        count = 0\n",
    "        for row in (doc.tables[1].rows):\n",
    "                count += 1\n",
    "        num_rows = count\n",
    "\n",
    "        for i in range(0,num_rows):\n",
    "                print (\"Processing\")\n",
    "                for j in list_excel:\n",
    "                        if ((table1.cell(i,1).text).strip().upper()).find((j[0]).strip().upper()) != -1:\n",
    "                                if j[3] == 'X':\n",
    "                                        table1.cell(i,4).text = j[7]\n",
    "                                else:\n",
    "                                        table1.cell(i,5).text = j[7]\n",
    "                        else:\n",
    "                                pass\n",
    "        doc.save(r\"C:\\Users\\DELL\\OneDrive - tuaf.edu.vn\\TUAF\\Python_Tutorial\\Polygon\\Ha.docx\")\n",
    "        print (\"Finished\")"
   ]
  },
  {
   "cell_type": "code",
   "execution_count": null,
   "metadata": {},
   "outputs": [],
   "source": [
    "a=r\"C:\\Users\\DELL\\OneDrive - tuaf.edu.vn\\TUAF\\Python_Tutorial\\word\\NGA_QACR.docx\"\n",
    "b=r\"C:\\Users\\DELL\\OneDrive - tuaf.edu.vn\\TUAF\\Python_Tutorial\\word\\GMAPS-SPEC-DDSF-00098-C_Annexe_Justification_GAIT26.xlsx\"\n",
    "runanalysis(b,a)"
   ]
  },
  {
   "cell_type": "markdown",
   "metadata": {},
   "source": [
    "## Some other methods "
   ]
  },
  {
   "cell_type": "code",
   "execution_count": 15,
   "metadata": {},
   "outputs": [],
   "source": [
    "a=\"    ha Van    tuyen\"\n",
    "import re"
   ]
  },
  {
   "cell_type": "code",
   "execution_count": 16,
   "metadata": {},
   "outputs": [
    {
     "data": {
      "text/plain": [
       "'HA VAN TUYEN'"
      ]
     },
     "execution_count": 16,
     "metadata": {},
     "output_type": "execute_result"
    }
   ],
   "source": [
    "# Split and join \n",
    "a=a.upper()\n",
    "\n",
    "b=\" \".join(a.split()) # Remove any whitespaces\n",
    "b"
   ]
  },
  {
   "cell_type": "code",
   "execution_count": 18,
   "metadata": {},
   "outputs": [
    {
     "data": {
      "text/plain": [
       "'HA VAN    TUYEN'"
      ]
     },
     "execution_count": 18,
     "metadata": {},
     "output_type": "execute_result"
    }
   ],
   "source": [
    "# remove two sided whitespaces\n",
    "\n",
    "b=a.strip()\n",
    "b"
   ]
  },
  {
   "cell_type": "code",
   "execution_count": null,
   "metadata": {},
   "outputs": [],
   "source": []
  }
 ],
 "metadata": {
  "kernelspec": {
   "display_name": "Python 3",
   "language": "python",
   "name": "python3"
  },
  "language_info": {
   "codemirror_mode": {
    "name": "ipython",
    "version": 3
   },
   "file_extension": ".py",
   "mimetype": "text/x-python",
   "name": "python",
   "nbconvert_exporter": "python",
   "pygments_lexer": "ipython3",
   "version": "3.8.5"
  }
 },
 "nbformat": 4,
 "nbformat_minor": 4
}
