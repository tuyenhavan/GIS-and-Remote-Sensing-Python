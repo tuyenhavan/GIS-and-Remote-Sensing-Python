{
 "cells": [
  {
   "cell_type": "code",
   "execution_count": 1,
   "metadata": {},
   "outputs": [],
   "source": [
    "import os \n",
    "import geopandas as gpd"
   ]
  },
  {
   "cell_type": "code",
   "execution_count": 2,
   "metadata": {},
   "outputs": [
    {
     "data": {
      "text/plain": [
       "['F:\\\\Research\\\\Maps\\\\Training_2017.gpkg\\\\Training_2017b.shp',\n",
       " 'F:\\\\Research\\\\Maps\\\\Training_Data\\\\Study_Area.shp',\n",
       " 'F:\\\\Research\\\\Maps\\\\Training_Data\\\\Training_Data.shp',\n",
       " 'F:\\\\Research\\\\Maps\\\\Vietnam Maps\\\\gadm36_VNM_0.shp',\n",
       " 'F:\\\\Research\\\\Maps\\\\Vietnam Maps\\\\gadm36_VNM_1.shp',\n",
       " 'F:\\\\Research\\\\Maps\\\\Vietnam Maps\\\\gadm36_VNM_2.shp',\n",
       " 'F:\\\\Research\\\\Maps\\\\Vietnam Maps\\\\gadm36_VNM_3.shp',\n",
       " 'F:\\\\Research\\\\Maps\\\\Vietnam Maps\\\\Lap_Thach_Map.shp',\n",
       " 'F:\\\\Research\\\\Maps\\\\Vietnam Maps\\\\Point_Reference.shp',\n",
       " 'F:\\\\Research\\\\Maps\\\\Vietnam Maps\\\\Point_Reference0.shp',\n",
       " 'F:\\\\Research\\\\Maps\\\\Vietnam Maps\\\\Red_River_Delta.shp',\n",
       " 'F:\\\\Research\\\\Maps\\\\Vietnam Maps\\\\Red_River_Delta_District.shp',\n",
       " 'F:\\\\Research\\\\Research_Cooperation\\\\ILRI\\\\GPS_Shapefile.shp',\n",
       " 'F:\\\\Research\\\\Research_Cooperation\\\\ILRI\\\\Hanoi_communes.shp',\n",
       " 'F:\\\\Research\\\\Research_Cooperation\\\\ILRI\\\\Hanoi_district.shp',\n",
       " 'F:\\\\Research\\\\Research_Cooperation\\\\ILRI\\\\Hanoi_Extent.shp',\n",
       " 'F:\\\\Research\\\\Research_Cooperation\\\\ILRI\\\\ketqua.shp',\n",
       " 'F:\\\\Research\\\\Research_Cooperation\\\\ILRI\\\\Samples_Filter.shp',\n",
       " 'F:\\\\Research\\\\Research_Cooperation\\\\ILRI\\\\UTM_Shapefile.shp']"
      ]
     },
     "execution_count": 2,
     "metadata": {},
     "output_type": "execute_result"
    }
   ],
   "source": [
    "path=r\"F:\\Research\"\n",
    "myshape=[]\n",
    "\n",
    "for root, dirs, files in os.walk(path):\n",
    "    for myfiles in files:\n",
    "        if myfiles.endswith(\".shp\"):\n",
    "            myshape.append(os.path.join(root,myfiles))\n",
    "            \n",
    "myshape    "
   ]
  },
  {
   "cell_type": "code",
   "execution_count": null,
   "metadata": {},
   "outputs": [],
   "source": [
    "for a,b,c in "
   ]
  }
 ],
 "metadata": {
  "kernelspec": {
   "display_name": "Python 3",
   "language": "python",
   "name": "python3"
  },
  "language_info": {
   "codemirror_mode": {
    "name": "ipython",
    "version": 3
   },
   "file_extension": ".py",
   "mimetype": "text/x-python",
   "name": "python",
   "nbconvert_exporter": "python",
   "pygments_lexer": "ipython3",
   "version": "3.8.5"
  }
 },
 "nbformat": 4,
 "nbformat_minor": 4
}
