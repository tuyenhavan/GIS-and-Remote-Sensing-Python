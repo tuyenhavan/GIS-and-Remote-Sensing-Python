{
 "cells": [
  {
   "cell_type": "code",
   "execution_count": 1,
   "id": "c8e5a991",
   "metadata": {},
   "outputs": [],
   "source": [
    "import ee\n",
    "import geemap as emap\n",
    "import geopandas as gpd\n",
    "import numpy as np\n",
    "import pandas as pd"
   ]
  },
  {
   "cell_type": "code",
   "execution_count": 2,
   "id": "28796675",
   "metadata": {},
   "outputs": [
    {
     "data": {
      "text/html": [
       "<p>To authorize access needed by Earth Engine, open the following\n",
       "        URL in a web browser and follow the instructions:</p>\n",
       "        <p><a href=https://accounts.google.com/o/oauth2/auth?client_id=517222506229-vsmmajv00ul0bs7p89v5m89qs8eb9359.apps.googleusercontent.com&scope=https%3A%2F%2Fwww.googleapis.com%2Fauth%2Fearthengine+https%3A%2F%2Fwww.googleapis.com%2Fauth%2Fdevstorage.full_control&redirect_uri=urn%3Aietf%3Awg%3Aoauth%3A2.0%3Aoob&response_type=code&code_challenge=gww2mYimk5Lp68VAZOXsJp7461mb9kG8s7Z5bEpiNlw&code_challenge_method=S256>https://accounts.google.com/o/oauth2/auth?client_id=517222506229-vsmmajv00ul0bs7p89v5m89qs8eb9359.apps.googleusercontent.com&scope=https%3A%2F%2Fwww.googleapis.com%2Fauth%2Fearthengine+https%3A%2F%2Fwww.googleapis.com%2Fauth%2Fdevstorage.full_control&redirect_uri=urn%3Aietf%3Awg%3Aoauth%3A2.0%3Aoob&response_type=code&code_challenge=gww2mYimk5Lp68VAZOXsJp7461mb9kG8s7Z5bEpiNlw&code_challenge_method=S256</a></p>\n",
       "        <p>The authorization workflow will generate a code, which you\n",
       "        should paste in the box below</p>\n",
       "        "
      ],
      "text/plain": [
       "<IPython.core.display.HTML object>"
      ]
     },
     "metadata": {},
     "output_type": "display_data"
    },
    {
     "name": "stdout",
     "output_type": "stream",
     "text": [
      "Enter verification code: 4/1AX4XfWh14lRXgjmHrGx_almGuW5RCvSgymBK5sFLjI91q9gfKyCSBylmHgI\n",
      "\n",
      "Successfully saved authorization token.\n"
     ]
    }
   ],
   "source": [
    "ee.Authenticate()\n",
    "ee.Initialize()"
   ]
  },
  {
   "cell_type": "code",
   "execution_count": 3,
   "id": "8fc67ac7",
   "metadata": {},
   "outputs": [],
   "source": [
    "# MODIS Data collection \n",
    "lstTerraDaily=ee.ImageCollection(\"MODIS/006/MOD11A1\")"
   ]
  },
  {
   "cell_type": "code",
   "execution_count": 7,
   "id": "f5483110",
   "metadata": {},
   "outputs": [],
   "source": [
    "# Get monthly temperature\n",
    "mlist=ee.List([])\n",
    "\n",
    "for year in range(2015,2022):\n",
    "    for month in range(1,13):\n",
    "        test=lstTerraDaily.filter(ee.Filter.calendarRange(year,year,\"year\")).\\\n",
    "        filter(ee.Filter.calendarRange(month,month,\"month\"))\n",
    "        # How to copy the timestamp or add timestamp to next new_img\n",
    "        date=ee.Date.fromYMD(year,month,1)\n",
    "        newband=ee.Image(date.millis()).rename(\"time\")\n",
    "        new_img=test.median().addBands(newband).copyProperties(test.first(),[\"system:timestart\"]).set({\"date\":date})\n",
    "        mlist=mlist.add(new_img)\n",
    "# Image Collection from list\n",
    "col1=ee.ImageCollection.fromImages(mlist)"
   ]
  },
  {
   "cell_type": "code",
   "execution_count": 8,
   "id": "ac65d996",
   "metadata": {},
   "outputs": [],
   "source": [
    "t=col1.filterDate(ee.Date.fromYMD(2020,1,1),ee.Date.fromYMD(2021,1,1))"
   ]
  },
  {
   "cell_type": "code",
   "execution_count": 9,
   "id": "86ffc369",
   "metadata": {},
   "outputs": [
    {
     "data": {
      "text/plain": [
       "0"
      ]
     },
     "execution_count": 9,
     "metadata": {},
     "output_type": "execute_result"
    }
   ],
   "source": [
    "# Why it can't get images?\n",
    "t.size().getInfo()"
   ]
  },
  {
   "cell_type": "markdown",
   "id": "90df66de",
   "metadata": {},
   "source": [
    "## Questions"
   ]
  },
  {
   "cell_type": "markdown",
   "id": "80f052ea",
   "metadata": {},
   "source": [
    "1. How to convert from one coordinate system to another in GEE?\n",
    "\n",
    "2. How to resample pixels to the desired resolution? For example, resample Landsat 30m to Sentinel-2 10m using various methods such as nearest neughbor or billiner?\n",
    "\n",
    "3. In what cases should we use `copyProperties()`?\n",
    "\n",
    "4. For sentinel-1 data, what pre-processing did you apply? and how to combine Sentinel-2 and Sentinel-1 into a monthly composite?\n"
   ]
  }
 ],
 "metadata": {
  "kernelspec": {
   "display_name": "Python 3 (ipykernel)",
   "language": "python",
   "name": "python3"
  },
  "language_info": {
   "codemirror_mode": {
    "name": "ipython",
    "version": 3
   },
   "file_extension": ".py",
   "mimetype": "text/x-python",
   "name": "python",
   "nbconvert_exporter": "python",
   "pygments_lexer": "ipython3",
   "version": "3.8.10"
  }
 },
 "nbformat": 4,
 "nbformat_minor": 5
}
