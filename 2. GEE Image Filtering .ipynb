{
 "cells": [
  {
   "cell_type": "code",
   "execution_count": 87,
   "metadata": {},
   "outputs": [],
   "source": [
    "import ee\n",
    "import folium\n",
    "import geemap as emap"
   ]
  },
  {
   "cell_type": "code",
   "execution_count": 2,
   "metadata": {},
   "outputs": [
    {
     "data": {
      "text/html": [
       "<p>To authorize access needed by Earth Engine, open the following\n",
       "        URL in a web browser and follow the instructions:</p>\n",
       "        <p><a href=https://accounts.google.com/o/oauth2/auth?client_id=517222506229-vsmmajv00ul0bs7p89v5m89qs8eb9359.apps.googleusercontent.com&scope=https%3A%2F%2Fwww.googleapis.com%2Fauth%2Fearthengine+https%3A%2F%2Fwww.googleapis.com%2Fauth%2Fdevstorage.full_control&redirect_uri=urn%3Aietf%3Awg%3Aoauth%3A2.0%3Aoob&response_type=code&code_challenge=AP3DyXYDVHxOYkhBdR9VIySvRrgwcEYTCeGjK1-Qeto&code_challenge_method=S256>https://accounts.google.com/o/oauth2/auth?client_id=517222506229-vsmmajv00ul0bs7p89v5m89qs8eb9359.apps.googleusercontent.com&scope=https%3A%2F%2Fwww.googleapis.com%2Fauth%2Fearthengine+https%3A%2F%2Fwww.googleapis.com%2Fauth%2Fdevstorage.full_control&redirect_uri=urn%3Aietf%3Awg%3Aoauth%3A2.0%3Aoob&response_type=code&code_challenge=AP3DyXYDVHxOYkhBdR9VIySvRrgwcEYTCeGjK1-Qeto&code_challenge_method=S256</a></p>\n",
       "        <p>The authorization workflow will generate a code, which you\n",
       "        should paste in the box below</p>\n",
       "        "
      ],
      "text/plain": [
       "<IPython.core.display.HTML object>"
      ]
     },
     "metadata": {},
     "output_type": "display_data"
    },
    {
     "name": "stdout",
     "output_type": "stream",
     "text": [
      "Enter verification code: 4/1AX4XfWiP3RW2tRpxyBf0dePjTXowIS9epgl10YiIV8bFzfxFNADz3LQYxCg\n",
      "\n",
      "Successfully saved authorization token.\n"
     ]
    }
   ],
   "source": [
    "# Initialize ee\n",
    "ee.Initialize()\n",
    "ee.Authenticate()"
   ]
  },
  {
   "cell_type": "code",
   "execution_count": 95,
   "metadata": {
    "scrolled": true
   },
   "outputs": [
    {
     "data": {
      "application/vnd.jupyter.widget-view+json": {
       "model_id": "0c98aa7d13a740c6b575dbce72780a8d",
       "version_major": 2,
       "version_minor": 0
      },
      "text/plain": [
       "Map(center=[40, -100], controls=(WidgetControl(options=['position'], widget=HBox(children=(ToggleButton(value=…"
      ]
     },
     "metadata": {},
     "output_type": "display_data"
    }
   ],
   "source": [
    "Map=emap.Map()\n",
    "Map"
   ]
  },
  {
   "cell_type": "markdown",
   "metadata": {},
   "source": [
    "# 1. Select Images"
   ]
  },
  {
   "cell_type": "markdown",
   "metadata": {},
   "source": [
    "##### Filter or get `best` image from a ImageCollection"
   ]
  },
  {
   "cell_type": "code",
   "execution_count": 114,
   "metadata": {},
   "outputs": [],
   "source": [
    "# Filter date, bounds and sort by cloud cover\n",
    "## Define the region of interest\n",
    "point=ee.Geometry.Point(105.46,21.41)\n",
    "## Filter by collection\n",
    "collection=ee.ImageCollection(\"LANDSAT/LC08/C01/T1_TOA\").filterDate(\"2014-01-01\",\"2015-01-01\").\\\n",
    "filterBounds(point).sort(\"CLOUD_COVER\")"
   ]
  },
  {
   "cell_type": "code",
   "execution_count": 115,
   "metadata": {},
   "outputs": [
    {
     "data": {
      "text/plain": [
       "17"
      ]
     },
     "execution_count": 115,
     "metadata": {},
     "output_type": "execute_result"
    }
   ],
   "source": [
    "# Print out the number of images \n",
    "collection.size().getInfo()"
   ]
  },
  {
   "cell_type": "code",
   "execution_count": 116,
   "metadata": {},
   "outputs": [],
   "source": [
    "# Get the best image\n",
    "image=collection.first()"
   ]
  },
  {
   "cell_type": "code",
   "execution_count": 119,
   "metadata": {},
   "outputs": [],
   "source": [
    "# Visualizing the above image\n",
    "vis={\"bands\":[\"B4\",\"B3\",\"B2\"],\"min\":0.046, \"max\":0.389}\n",
    "# Center the map\n",
    "Map.centerObject(point,10)\n",
    "# Plot the image\n",
    "Map.addLayer(image, vis, \"Image 2014\")"
   ]
  },
  {
   "cell_type": "markdown",
   "metadata": {},
   "source": [
    "##### Write a function to select the best image by each year from 2015 to 2020"
   ]
  },
  {
   "cell_type": "code",
   "execution_count": 76,
   "metadata": {},
   "outputs": [],
   "source": [
    "def bestImage(year):\n",
    "    start_year=ee.Date.fromYMD(year, 1,1)\n",
    "    end_year=start_year.advance(1,\"year\")\n",
    "    image=ee.ImageCollection(\"LANDSAT/LC08/C01/T1_TOA\").filterDate(start_year,end_year).\\\n",
    "filterBounds(point).sort(\"CLOUD_COVER\").first()\n",
    "    return image\n",
    "years=ee.List.sequence(2015,2020)\n",
    "\n",
    "myImage=years.map(bestImage)"
   ]
  },
  {
   "cell_type": "code",
   "execution_count": 81,
   "metadata": {},
   "outputs": [
    {
     "name": "stdout",
     "output_type": "stream",
     "text": [
      "Cloud Cover: 19.1 %\n",
      "Cloud Cover: 1.53 %\n",
      "Cloud Cover: 5.54 %\n",
      "Cloud Cover: 8.37 %\n",
      "Cloud Cover: 0.12 %\n",
      "Cloud Cover: 25.1 %\n"
     ]
    }
   ],
   "source": [
    "collection=ee.ImageCollection(myImage)\n",
    "# See cloud cover each image\n",
    "for i in collection.aggregate_array(\"CLOUD_COVER\").getInfo():\n",
    "    print(\"Cloud Cover: {:.3} %\".format(i))"
   ]
  },
  {
   "cell_type": "code",
   "execution_count": 120,
   "metadata": {},
   "outputs": [],
   "source": [
    "# Visualize each image\n",
    "for index in range(0,6):\n",
    "    image=ee.Image(myImage.get(index))\n",
    "    layerName=\"Image \"+ str(years.getInfo()[index])\n",
    "    Map.addLayer(image, vis, layerName, False)"
   ]
  }
 ],
 "metadata": {
  "kernelspec": {
   "display_name": "Python 3",
   "language": "python",
   "name": "python3"
  },
  "language_info": {
   "codemirror_mode": {
    "name": "ipython",
    "version": 3
   },
   "file_extension": ".py",
   "mimetype": "text/x-python",
   "name": "python",
   "nbconvert_exporter": "python",
   "pygments_lexer": "ipython3",
   "version": "3.8.5"
  }
 },
 "nbformat": 4,
 "nbformat_minor": 4
}
