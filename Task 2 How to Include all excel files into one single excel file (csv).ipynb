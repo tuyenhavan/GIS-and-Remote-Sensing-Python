{
 "cells": [
  {
   "cell_type": "code",
   "execution_count": 1,
   "metadata": {},
   "outputs": [],
   "source": [
    "import os\n",
    "import geopandas as gpd\n",
    "import pandas as pd"
   ]
  },
  {
   "cell_type": "markdown",
   "metadata": {},
   "source": [
    "# 1. Create a new folder"
   ]
  },
  {
   "cell_type": "code",
   "execution_count": 2,
   "metadata": {},
   "outputs": [],
   "source": [
    "path=r\"C:\\Users\\DELL\\OneDrive - tuaf.edu.vn\\TUAF\\Python_Tutorial\\All_points\"\n",
    "\n",
    "Excel_Folder=os.path.join(path,\"Excel_Folder\")\n",
    "\n",
    "if os.path.exists(Excel_Folder):\n",
    "    pass\n",
    "else:\n",
    "    os.mkdir(Excel_Folder)"
   ]
  },
  {
   "cell_type": "markdown",
   "metadata": {},
   "source": [
    "# Test how to create a dataframe"
   ]
  },
  {
   "cell_type": "code",
   "execution_count": 5,
   "metadata": {},
   "outputs": [
    {
     "data": {
      "text/html": [
       "<div>\n",
       "<style scoped>\n",
       "    .dataframe tbody tr th:only-of-type {\n",
       "        vertical-align: middle;\n",
       "    }\n",
       "\n",
       "    .dataframe tbody tr th {\n",
       "        vertical-align: top;\n",
       "    }\n",
       "\n",
       "    .dataframe thead th {\n",
       "        text-align: right;\n",
       "    }\n",
       "</style>\n",
       "<table border=\"1\" class=\"dataframe\">\n",
       "  <thead>\n",
       "    <tr style=\"text-align: right;\">\n",
       "      <th></th>\n",
       "      <th>name</th>\n",
       "      <th>Age</th>\n",
       "    </tr>\n",
       "  </thead>\n",
       "  <tbody>\n",
       "    <tr>\n",
       "      <th>0</th>\n",
       "      <td>HA</td>\n",
       "      <td>12</td>\n",
       "    </tr>\n",
       "  </tbody>\n",
       "</table>\n",
       "</div>"
      ],
      "text/plain": [
       "  name  Age\n",
       "0   HA   12"
      ]
     },
     "execution_count": 5,
     "metadata": {},
     "output_type": "execute_result"
    }
   ],
   "source": [
    "Mydict={\"name\":[\"HA\"],\"Age\":12}\n",
    "\n",
    "mydf=pd.DataFrame(Mydict)\n",
    "\n",
    "mydf.to_csv(os.path.join(Excel_Folder,\"Excel_file.csv\"))\n",
    "\n",
    "mydf.head()\n"
   ]
  },
  {
   "cell_type": "markdown",
   "metadata": {},
   "source": [
    "# 2. Merge all sahpefiles attribute tables into one single csv file containing Long, Lat"
   ]
  },
  {
   "cell_type": "code",
   "execution_count": 4,
   "metadata": {},
   "outputs": [],
   "source": [
    "Mypoint={\"Long\":[],\"Lat\":[],\"Source\":[]}\n",
    "\n",
    "\n",
    "for i in os.listdir(path):\n",
    "    if i.endswith(\".shp\"):\n",
    "        myshape=gpd.read_file(os.path.join(path,os.path.basename(i)))\n",
    "        for j in myshape.geometry:\n",
    "            Mypoint[\"Long\"].append(j.x)\n",
    "            Mypoint[\"Lat\"].append(j.y)\n",
    "            Mypoint[\"Source\"].append(os.path.basename(i))\n",
    "        \n",
    "Mydf=pd.DataFrame(Mypoint)\n",
    "\n",
    "Mydf.to_csv(os.path.join(Excel_Folder,\"Excel_file.csv\"))"
   ]
  },
  {
   "cell_type": "code",
   "execution_count": null,
   "metadata": {},
   "outputs": [],
   "source": []
  }
 ],
 "metadata": {
  "kernelspec": {
   "display_name": "Python 3",
   "language": "python",
   "name": "python3"
  },
  "language_info": {
   "codemirror_mode": {
    "name": "ipython",
    "version": 3
   },
   "file_extension": ".py",
   "mimetype": "text/x-python",
   "name": "python",
   "nbconvert_exporter": "python",
   "pygments_lexer": "ipython3",
   "version": "3.8.5"
  }
 },
 "nbformat": 4,
 "nbformat_minor": 4
}
