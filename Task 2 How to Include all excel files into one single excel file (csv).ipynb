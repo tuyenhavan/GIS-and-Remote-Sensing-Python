{
 "cells": [
  {
   "cell_type": "code",
   "execution_count": 1,
   "metadata": {},
   "outputs": [],
   "source": [
    "import os\n",
    "import geopandas as gpd\n",
    "import pandas as pd"
   ]
  },
  {
   "cell_type": "code",
   "execution_count": 2,
   "metadata": {},
   "outputs": [],
   "source": [
    "path=r\"C:\\Users\\DELL\\OneDrive - tuaf.edu.vn\\TUAF\\Python_Tutorial\\All_points\"\n",
    "\n",
    "Excel_Folder=os.path.join(path,\"Excel_Folder\")\n",
    "\n",
    "if os.path.exists(Excel_Folder):\n",
    "    pass\n",
    "else:\n",
    "    os.mkdir(Excel_Folder)"
   ]
  },
  {
   "cell_type": "code",
   "execution_count": 3,
   "metadata": {},
   "outputs": [],
   "source": [
    "Mydict={\"name\":[\"HA\"],\"Age\":12}\n",
    "\n",
    "mydf=pd.DataFrame(Mydict)\n",
    "\n",
    "mydf\n",
    "\n",
    "mydf.to_csv(os.path.join(Excel_Folder,\"Excel_file.csv\"))"
   ]
  },
  {
   "cell_type": "code",
   "execution_count": 4,
   "metadata": {},
   "outputs": [],
   "source": [
    "Mypoint={\"Long\":[],\"Lat\":[],\"Source\":[]}\n",
    "\n",
    "\n",
    "for i in os.listdir(path):\n",
    "    if i.endswith(\".shp\"):\n",
    "        myshape=gpd.read_file(os.path.join(path,os.path.basename(i)))\n",
    "        for j in myshape.geometry:\n",
    "            Mypoint[\"Long\"].append(j.x)\n",
    "            Mypoint[\"Lat\"].append(j.y)\n",
    "            Mypoint[\"Source\"].append(os.path.basename(i))\n",
    "        \n",
    "Mydf=pd.DataFrame(Mypoint)\n",
    "\n",
    "Mydf.to_csv(os.path.join(Excel_Folder,\"Excel_file.csv\"))"
   ]
  },
  {
   "cell_type": "code",
   "execution_count": null,
   "metadata": {},
   "outputs": [],
   "source": []
  }
 ],
 "metadata": {
  "kernelspec": {
   "display_name": "Python 3",
   "language": "python",
   "name": "python3"
  },
  "language_info": {
   "codemirror_mode": {
    "name": "ipython",
    "version": 3
   },
   "file_extension": ".py",
   "mimetype": "text/x-python",
   "name": "python",
   "nbconvert_exporter": "python",
   "pygments_lexer": "ipython3",
   "version": "3.8.5"
  }
 },
 "nbformat": 4,
 "nbformat_minor": 4
}
