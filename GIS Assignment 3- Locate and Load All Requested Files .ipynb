{
 "cells": [
  {
   "cell_type": "markdown",
   "metadata": {},
   "source": [
    "# Import library "
   ]
  },
  {
   "cell_type": "code",
   "execution_count": 14,
   "metadata": {},
   "outputs": [],
   "source": [
    "import os \n",
    "import glob\n",
    "import geopandas as gpd"
   ]
  },
  {
   "cell_type": "markdown",
   "metadata": {},
   "source": [
    "This is to practice how to read all requested files from a certain directory, which includes folders and subfolders."
   ]
  },
  {
   "cell_type": "markdown",
   "metadata": {},
   "source": [
    "# 1. Load all folders in our directory "
   ]
  },
  {
   "cell_type": "code",
   "execution_count": 6,
   "metadata": {},
   "outputs": [],
   "source": [
    "# Set path\n",
    "path=r\"F:\\Research\""
   ]
  },
  {
   "cell_type": "markdown",
   "metadata": {},
   "source": [
    "# 2. Display all shapefiles"
   ]
  },
  {
   "cell_type": "code",
   "execution_count": 10,
   "metadata": {},
   "outputs": [
    {
     "name": "stdout",
     "output_type": "stream",
     "text": [
      "Training_2017b.shp\n",
      "Study_Area.shp\n",
      "Training_Data.shp\n",
      "gadm36_VNM_0.shp\n",
      "gadm36_VNM_1.shp\n",
      "gadm36_VNM_2.shp\n",
      "gadm36_VNM_3.shp\n",
      "Lap_Thach_Map.shp\n",
      "Point_Reference.shp\n",
      "Point_Reference0.shp\n",
      "Red_River_Delta.shp\n",
      "Red_River_Delta_District.shp\n",
      "GPS_Shapefile.shp\n",
      "Hanoi_communes.shp\n",
      "Hanoi_district.shp\n",
      "Hanoi_Extent.shp\n",
      "ketqua.shp\n",
      "Samples_Filter.shp\n",
      "UTM_Shapefile.shp\n"
     ]
    }
   ],
   "source": [
    "for root, dirs, files in os.walk(path):\n",
    "    for myfile in files:\n",
    "        if myfile.endswith(\".shp\"):\n",
    "            print(myfile)"
   ]
  },
  {
   "cell_type": "markdown",
   "metadata": {},
   "source": [
    "## 2.1. Save all shapefiles in a list"
   ]
  },
  {
   "cell_type": "code",
   "execution_count": 13,
   "metadata": {},
   "outputs": [
    {
     "data": {
      "text/plain": [
       "['GPS_Shapefile.shp',\n",
       " 'Hanoi_communes.shp',\n",
       " 'Hanoi_district.shp',\n",
       " 'Hanoi_Extent.shp',\n",
       " 'ketqua.shp',\n",
       " 'Samples_Filter.shp',\n",
       " 'UTM_Shapefile.shp']"
      ]
     },
     "execution_count": 13,
     "metadata": {},
     "output_type": "execute_result"
    }
   ],
   "source": [
    "myshp=[]\n",
    "\n",
    "for root, dirs, files in os.walk(path):\n",
    "    for mydic in dirs:\n",
    "        for myfile in files:\n",
    "            if myfile.endswith(\".shp\"):\n",
    "                myshp.append(myfile)\n",
    "                "
   ]
  },
  {
   "cell_type": "markdown",
   "metadata": {},
   "source": [
    "# 3. Read all shpefiles and save it in a list"
   ]
  },
  {
   "cell_type": "code",
   "execution_count": 26,
   "metadata": {},
   "outputs": [
    {
     "data": {
      "text/plain": [
       "['F:\\\\Research\\\\rsconnect\\\\GPS_Shapefile.shp',\n",
       " 'F:\\\\Research\\\\rsconnect\\\\Hanoi_communes.shp',\n",
       " 'F:\\\\Research\\\\rsconnect\\\\Hanoi_district.shp',\n",
       " 'F:\\\\Research\\\\rsconnect\\\\Hanoi_Extent.shp',\n",
       " 'F:\\\\Research\\\\rsconnect\\\\ketqua.shp',\n",
       " 'F:\\\\Research\\\\rsconnect\\\\Samples_Filter.shp',\n",
       " 'F:\\\\Research\\\\rsconnect\\\\UTM_Shapefile.shp']"
      ]
     },
     "execution_count": 26,
     "metadata": {},
     "output_type": "execute_result"
    }
   ],
   "source": [
    "\n",
    "myshape=[]\n",
    "try:\n",
    "    for root, dirs, files in os.walk(path):\n",
    "        for mydic in dirs:\n",
    "            for myfile in files:\n",
    "                if myfile.endswith(\".shp\"):\n",
    "                    myshape.append(os.path.join(path,mydic,myfile))\n",
    "except:\n",
    "    pass\n",
    "\n",
    "myshape"
   ]
  },
  {
   "cell_type": "code",
   "execution_count": null,
   "metadata": {},
   "outputs": [],
   "source": []
  }
 ],
 "metadata": {
  "kernelspec": {
   "display_name": "Python 3",
   "language": "python",
   "name": "python3"
  },
  "language_info": {
   "codemirror_mode": {
    "name": "ipython",
    "version": 3
   },
   "file_extension": ".py",
   "mimetype": "text/x-python",
   "name": "python",
   "nbconvert_exporter": "python",
   "pygments_lexer": "ipython3",
   "version": "3.8.5"
  }
 },
 "nbformat": 4,
 "nbformat_minor": 4
}
