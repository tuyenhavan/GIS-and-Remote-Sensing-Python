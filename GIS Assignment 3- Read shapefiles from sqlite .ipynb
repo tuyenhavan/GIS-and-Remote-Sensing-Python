{
 "cells": [
  {
   "cell_type": "markdown",
   "metadata": {},
   "source": [
    "# 1. Import library"
   ]
  },
  {
   "cell_type": "code",
   "execution_count": 35,
   "metadata": {},
   "outputs": [],
   "source": [
    "import os\n",
    "import gdal \n",
    "import osr\n",
    "import ogr\n",
    "import osgeo as geo"
   ]
  },
  {
   "cell_type": "markdown",
   "metadata": {},
   "source": [
    "# 2. Set path to read files from"
   ]
  },
  {
   "cell_type": "code",
   "execution_count": 12,
   "metadata": {
    "scrolled": true
   },
   "outputs": [],
   "source": [
    "# Step 1: Define type of data we work with. In this case is SQLite\n",
    "driver=ogr.GetDriverByName(\"SQLite\")\n",
    "# Get the sqlite path in our local computer \n",
    "file=driver.Open(r\"C:\\Users\\DELL\\OneDrive - tuaf.edu.vn\\TUAF\\Python_Tutorial\\thainguyen.sqlite\")\n",
    "# Count the number of files/ tables in sqlite database \n",
    "layer_num=file.GetLayerCount() # Count number of files or tables (SQLite language)\n",
    "# Define and locate the folder that we want to save output in\n",
    "savefolder=r\"C:\\Users\\DELL\\OneDrive - tuaf.edu.vn\\TUAF\\Python_Tutorial\\myfolder\"\n",
    "# Define the output data type \n",
    "savedriver=ogr.GetDriverByName(\"ESRI Shapefile\")\n",
    "# Loop over the file by file/ table index \n",
    "for i in range(layer_num):\n",
    "    inlayer=file.GetLayerByIndex(i)\n",
    "    if inlayer.GetFeatureCount()>0: # GetFeatureCount counts row numbers (table empty or not)\n",
    "        srs=osr.SpatialReference()\n",
    "        srs.ImportFromEPSG(4326)\n",
    "        outshapefile=os.path.join(savefolder,inlayer.GetName() + \".shp\")\n",
    "        outdatasource=savedriver.CreateDataSource(outshapefile) # create an empty shapefile \n",
    "        outlayer=outdatasource.CreateLayer(inlayer.GetName(),srs,geom_type=inlayer.GetGeomType())\n",
    "\n",
    "        lydef=inlayer.GetLayerDefn() # Get columns of table \n",
    "        for j in range(lydef.GetFieldCount()): # GetFieldCount count number of column in a table\n",
    "            outlayer.CreateField(lydef.GetFieldDefn(j))\n",
    "        for feat in inlayer:\n",
    "            outlayer.CreateFeature(feat)\n",
    "        outlayer=None\n",
    "        \n",
    "  "
   ]
  }
 ],
 "metadata": {
  "kernelspec": {
   "display_name": "Python 3",
   "language": "python",
   "name": "python3"
  },
  "language_info": {
   "codemirror_mode": {
    "name": "ipython",
    "version": 3
   },
   "file_extension": ".py",
   "mimetype": "text/x-python",
   "name": "python",
   "nbconvert_exporter": "python",
   "pygments_lexer": "ipython3",
   "version": "3.8.5"
  }
 },
 "nbformat": 4,
 "nbformat_minor": 4
}
