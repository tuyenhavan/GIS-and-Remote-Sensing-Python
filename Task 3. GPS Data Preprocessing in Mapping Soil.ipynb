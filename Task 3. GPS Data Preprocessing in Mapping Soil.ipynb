{
 "cells": [
  {
   "cell_type": "code",
   "execution_count": 3,
   "metadata": {},
   "outputs": [],
   "source": [
    "import pandas as pd\n",
    "import re \n",
    "import os"
   ]
  },
  {
   "cell_type": "markdown",
   "metadata": {},
   "source": [
    "# 1. Define the data path and create a save path"
   ]
  },
  {
   "cell_type": "code",
   "execution_count": 4,
   "metadata": {},
   "outputs": [],
   "source": [
    "path=r\"F:\\Research\\Remote Sensing Papers\\Raw_Data\"\n",
    "\n",
    "folder=r\"F:\\Research\\Remote Sensing Papers\\Ha Giang GPS\\New_folder\""
   ]
  },
  {
   "cell_type": "markdown",
   "metadata": {},
   "source": [
    "# 2. Preprocess data"
   ]
  },
  {
   "cell_type": "code",
   "execution_count": 6,
   "metadata": {},
   "outputs": [
    {
     "name": "stdout",
     "output_type": "stream",
     "text": [
      "True\n"
     ]
    }
   ],
   "source": [
    "# Check if col_name is the same as df column\n",
    "col_name=[\"Soil_Num\",\"Point\",\"X\",\"Y\",\"Commune\",\"Topo\",\"Weather\",\"Soil\",\"Soil_Depth\",\"Water\",\"Flood\",\"Note\"]\n",
    "df=pd.read_excel(os.path.join(path,\"BM1.xlsx\"))\n",
    "if len(df.columns)==len(col_name):\n",
    "    print(True)"
   ]
  },
  {
   "cell_type": "code",
   "execution_count": 9,
   "metadata": {},
   "outputs": [],
   "source": [
    "col_name=[\"Soil_Num\",\"Point\",\"X\",\"Y\",\"Commune\",\"Topo\",\"Weather\",\"Soil\",\"Soil_Depth\",\"Water\",\"Flood\",\"Note\"]\n",
    "col_name1=[\"Soil_Num\",\"Soil_SubCode\",\"Point\",\"Commune\",\"Topo\",\"Weather\",\"Soil\",\"Soil_Depth\",\"Water\",\"Flood\",\"Note\"]\n",
    "\n",
    "for files in os.listdir(path):\n",
    "    if \"1.xlsx\" in files:\n",
    "        df=pd.read_excel(os.path.join(path,files),names=col_name)        \n",
    "        df[\"X\"]=df.X.str.replace(\",\",\".\").str.replace(\"° \",\"_\").str.replace(\"\\' \",\"_\").str.replace(\"\\\"\",\"\").str.replace(\"\\''\",\"\")\n",
    "        df[\"Y\"]=df.Y.str.replace(\",\",\".\").str.replace(\"° \",\"_\").str.replace(\"\\' \",\"_\").str.replace(\"\\\"\",\"\").str.replace(\"\\''\",\"\")\n",
    "        df[[\"D1\",\"M1\",\"S1\"]]=df.X.str.split(\"_\",expand=True)\n",
    "        df[[\"D2\",\"M2\",\"S2\"]]=df.Y.str.split(\"_\",expand=True)\n",
    "        X1=[]\n",
    "        Y1=[]\n",
    "        District=[]\n",
    "        \n",
    "        for eachline in range(len(df)):\n",
    "            X1.append(float(df.D1[eachline]) + (float(df.M1[eachline])/60) + (float(df.S1[eachline]))/3600)\n",
    "            Y1.append(float(df.D2[eachline]) + (float(df.M2[eachline])/60) + (float(df.S2[eachline]))/3600)\n",
    "            District.append(os.path.basename(files[0:-6]))\n",
    "    \n",
    "        df[\"X1\"]=X1\n",
    "        df[\"Y1\"]=Y1\n",
    "        df[\"District\"]=District\n",
    "        \n",
    "        df.to_excel(os.path.join(folder,str(count)+ os.path.basename(files)),engine=\"xlsxwriter\")\n",
    "        \n",
    "    elif \"raw.xlsx\" in files:\n",
    "                \n",
    "        df=pd.read_excel(os.path.join(path,files),names=col_name1)\n",
    "        df[[\"X\",\"Y\"]]=df.Point.str.split(\"\\nE\",expand=True)\n",
    "        df[[\"X\",\"Y\"]]=df.Point.str.split(\"\\nE\",expand=True)\n",
    "        df[\"X\"]=df.X.str.replace(\"N\",\"\").str.replace(\"°\",\"_\").str.replace(\"\\'\",\"_\").str.replace(\"\\\"\",\"\").str.replace(\",\",\".\")\n",
    "        df[\"Y\"]=df.Y.str.replace(\"N\",\"\").str.replace(\"°\",\"_\").str.replace(\"\\'\",\"_\").str.replace(\"\\\"\",\"\").str.replace(\",\",\".\")\n",
    "        df[[\"D1\",\"M1\",\"S1\"]]=df.X.str.split(\"_\",expand=True)\n",
    "        df[[\"D2\",\"M2\",\"S2\"]]=df.Y.str.split(\"_\",expand=True)\n",
    "        X1=[]\n",
    "        Y1=[]\n",
    "        District=[]\n",
    "\n",
    "        for lines in range(len(df)):\n",
    "            X1.append(float(df.D1[lines]) + (float(df.M1[lines])/60) + (float(df.S1[lines]))/3600)\n",
    "            Y1.append(float(df.D2[lines]) + (float(df.M2[lines])/60) + (float(df.S2[lines]))/3600)\n",
    "            District.append(os.path.basename(files[0:-9]))\n",
    "    \n",
    "        df[\"X1\"]=X1\n",
    "        df[\"Y1\"]=Y1\n",
    "        df[\"District\"]=District\n",
    "        df.to_excel(os.path.join(folder, str(count)+ os.path.basename(files)),engine=\"xlsxwriter\")"
   ]
  },
  {
   "cell_type": "markdown",
   "metadata": {},
   "source": [
    "###### How to remove unnessary titles or columns and footers (Credit to Huy)"
   ]
  },
  {
   "cell_type": "code",
   "execution_count": 15,
   "metadata": {},
   "outputs": [],
   "source": [
    "file_xls = r\"C:\\Users\\Admin\\OneDrive\\Desktop\\Ha Giang GPS\\YM1.xlsx\"\n",
    "\n",
    "read_file = pd.read_excel(file_xls,header=None)\n",
    "\n",
    "def doc_file(dataframe):\n",
    "index_h = list(dataframe.iloc[:, 0])\n",
    "listso = [a for a in index_h if isinstance(a, int)]\n",
    "listso.sort()\n",
    "dong_dau = index_h.index(1)\n",
    "dong_cuoi = index_h.index(listso[-1])\n",
    "ketqua = dataframe.iloc[dongdau:dongcuoi]\n",
    "return ketqua\n",
    "\n",
    "chuyendoi = doc_file(read_file)\n",
    "chuyendoi"
   ]
  },
  {
   "cell_type": "code",
   "execution_count": null,
   "metadata": {},
   "outputs": [],
   "source": [
    "ketqua = []\n",
    "for a in index_h:\n",
    "if isintance(a,int):\n",
    "ketqua.append(a)\n",
    "listso = [a for a in index_h if isinstance(a, int)]"
   ]
  },
  {
   "cell_type": "markdown",
   "metadata": {},
   "source": [
    "## 2. Marge all excel files to one"
   ]
  },
  {
   "cell_type": "code",
   "execution_count": 3,
   "metadata": {},
   "outputs": [],
   "source": [
    "df={\"Soil_Num\":[],\"Soil_SubCode\":[],\"Commune\":[],\"Topo\":[],\"Weather\":[],\"Soil\":[],\"Soil_Depth\":[],\"Water\":[],\"Flood\":[],\\\n",
    "    \"Note\":[],\"X1\":[],\"Y1\":[],\"District\":[]}\n",
    "for eachfile in os.listdir(GPS_Points):\n",
    "    if eachfile.endswith(\".xlsx\"):\n",
    "        df1=pd.read_excel(os.path.join(GPS_Points,eachfile),index_col=0)\n",
    "        for eachline in range(len(df1)):\n",
    "            df[\"Soil_Num\"].append(df1.Soil_Num[eachline])\n",
    "            df[\"Soil_SubCode\"].append(df1.Soil_SubCode[eachline])\n",
    "            df[\"Commune\"].append(df1.Commune[eachline])\n",
    "            df[\"Topo\"].append(df1.Topo[eachline])\n",
    "            df[\"Weather\"].append(df1.Weather[eachline])\n",
    "            df[\"Soil\"].append(df1.Soil[eachline])\n",
    "            df[\"Soil_Depth\"].append(df1.Soil_Depth[eachline])\n",
    "            df[\"Water\"].append(df1.Water[eachline])\n",
    "            df[\"Flood\"].append(df1.Flood[eachline])\n",
    "            df[\"Note\"].append(df1.Note[eachline])\n",
    "            df[\"X1\"].append(df1.X1[eachline])\n",
    "            df[\"Y1\"].append(df1.Y1[eachline])\n",
    "            df[\"District\"].append(df1.District[eachline])\n",
    "    else:\n",
    "        pass\n",
    "\n",
    "df_Total=pd.DataFrame(df)\n",
    "df_Total.to_excel(os.path.join(GPS_Points,\"DF.xlsx\"),engine=\"xlsxwriter\")\n"
   ]
  }
 ],
 "metadata": {
  "kernelspec": {
   "display_name": "Python 3",
   "language": "python",
   "name": "python3"
  },
  "language_info": {
   "codemirror_mode": {
    "name": "ipython",
    "version": 3
   },
   "file_extension": ".py",
   "mimetype": "text/x-python",
   "name": "python",
   "nbconvert_exporter": "python",
   "pygments_lexer": "ipython3",
   "version": "3.8.5"
  }
 },
 "nbformat": 4,
 "nbformat_minor": 4
}
