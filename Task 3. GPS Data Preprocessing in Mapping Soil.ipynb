{
 "cells": [
  {
   "cell_type": "code",
   "execution_count": 10,
   "metadata": {},
   "outputs": [],
   "source": [
    "import pandas as pd\n",
    "import re \n",
    "import os"
   ]
  },
  {
   "cell_type": "markdown",
   "metadata": {},
   "source": [
    "# 1. Define the data path and create a save path"
   ]
  },
  {
   "cell_type": "code",
   "execution_count": 11,
   "metadata": {},
   "outputs": [],
   "source": [
    "path=r\"F:\\Research\\Remote Sensing Papers\\Raw_Data\"\n",
    "\n",
    "GPS_Points=os.path.join(path,\"GPS_Points\")\n",
    "\n",
    "if os.path.exists(GPS_Points):\n",
    "    pass\n",
    "else:\n",
    "    os.mkdir(GPS_Points)"
   ]
  },
  {
   "cell_type": "markdown",
   "metadata": {},
   "source": [
    "# 2. Preprocess data"
   ]
  },
  {
   "cell_type": "code",
   "execution_count": 6,
   "metadata": {},
   "outputs": [],
   "source": [
    "col_name=[\"Soil_Num\",\"Point\",\"X\",\"Y\",\"Commune\",\"Topo\",\"Weather\",\"Soil\",\"Soil_Depth\",\"Water\",\"Flood\",\"Note\"]\n",
    "col_name1=[\"Soil_Num\",\"Soil_SubCode\",\"Point\",\"Commune\",\"Topo\",\"Weather\",\"Soil\",\"Soil_Depth\",\"Water\",\"Flood\",\"Note\"]\n",
    "for files in os.listdir(path):\n",
    "    if files.endswith(\"1.xlsx\"):\n",
    "        df=pd.read_excel(os.path.join(path,files),names=col_name)\n",
    "        df[\"X\"]=df.X.str.replace(\",\",\".\").str.replace(\"° \",\"_\").str.replace(\"\\' \",\"_\").str.replace(\"\\\"\",\"\").str.replace(\"\\''\",\"\")\n",
    "        df[\"Y\"]=df.Y.str.replace(\",\",\".\").str.replace(\"° \",\"_\").str.replace(\"\\' \",\"_\").str.replace(\"\\\"\",\"\").str.replace(\"\\''\",\"\")\n",
    "        df[[\"D1\",\"M1\",\"S1\"]]=df.X.str.split(\"_\",expand=True)\n",
    "        df[[\"D2\",\"M2\",\"S2\"]]=df.Y.str.split(\"_\",expand=True)\n",
    "        X1=[]\n",
    "        Y1=[]\n",
    "        District=[]\n",
    "\n",
    "        for eachline in range(len(df)):\n",
    "            X1.append(float(df.D1[eachline]) + (float(df.M1[eachline])/60) + (float(df.S1[eachline]))/3600)\n",
    "            Y1.append(float(df.D2[eachline]) + (float(df.M2[eachline])/60) + (float(df.S2[eachline]))/3600)\n",
    "            District.append(os.path.basename(files[0:-6]))\n",
    "\n",
    "        df[\"X1\"]=X1\n",
    "        df[\"Y1\"]=Y1\n",
    "        df[\"District\"]=District\n",
    "        df[\"Soil_SubCode\"]=None\n",
    "        df=df.drop([\"Point\",\"X\",\"Y\",\"D1\",\"M1\",\"S1\",\"D2\",\"M2\",\"S2\"],axis=1)\n",
    "        df=df[[\"Soil_Num\",\"Soil_SubCode\",\"Commune\",\"Topo\",\"Weather\",\"Soil\",\"Soil_Depth\",\"Water\",\"Flood\",\"Note\",\"X1\",\"Y1\",\"District\"]]\n",
    "        df.to_excel(os.path.join(GPS_Points,os.path.basename(files)),engine=\"xlsxwriter\")"
   ]
  },
  {
   "cell_type": "code",
   "execution_count": 13,
   "metadata": {},
   "outputs": [
    {
     "ename": "KeyError",
     "evalue": "\"['Point' 'X' 'Y' 'D1' 'M1' 'S1' 'D2' 'M2' 'S2'] not found in axis\"",
     "output_type": "error",
     "traceback": [
      "\u001b[1;31m---------------------------------------------------------------------------\u001b[0m",
      "\u001b[1;31mKeyError\u001b[0m                                  Traceback (most recent call last)",
      "\u001b[1;32m<ipython-input-13-6bc8a8cc8b8b>\u001b[0m in \u001b[0;36m<module>\u001b[1;34m\u001b[0m\n\u001b[0;32m     21\u001b[0m         \u001b[0mdf\u001b[0m\u001b[1;33m[\u001b[0m\u001b[1;34m\"Y1\"\u001b[0m\u001b[1;33m]\u001b[0m\u001b[1;33m=\u001b[0m\u001b[0mY1\u001b[0m\u001b[1;33m\u001b[0m\u001b[1;33m\u001b[0m\u001b[0m\n\u001b[0;32m     22\u001b[0m         \u001b[0mdf\u001b[0m\u001b[1;33m[\u001b[0m\u001b[1;34m\"District\"\u001b[0m\u001b[1;33m]\u001b[0m\u001b[1;33m=\u001b[0m\u001b[0mDistrict\u001b[0m\u001b[1;33m\u001b[0m\u001b[1;33m\u001b[0m\u001b[0m\n\u001b[1;32m---> 23\u001b[1;33m         \u001b[0mdf\u001b[0m\u001b[1;33m=\u001b[0m\u001b[0mdf\u001b[0m\u001b[1;33m.\u001b[0m\u001b[0mdrop\u001b[0m\u001b[1;33m(\u001b[0m\u001b[1;33m[\u001b[0m\u001b[1;34m\"Point\"\u001b[0m\u001b[1;33m,\u001b[0m\u001b[1;34m\"X\"\u001b[0m\u001b[1;33m,\u001b[0m\u001b[1;34m\"Y\"\u001b[0m\u001b[1;33m,\u001b[0m\u001b[1;34m\"D1\"\u001b[0m\u001b[1;33m,\u001b[0m\u001b[1;34m\"M1\"\u001b[0m\u001b[1;33m,\u001b[0m\u001b[1;34m\"S1\"\u001b[0m\u001b[1;33m,\u001b[0m\u001b[1;34m\"D2\"\u001b[0m\u001b[1;33m,\u001b[0m\u001b[1;34m\"M2\"\u001b[0m\u001b[1;33m,\u001b[0m\u001b[1;34m\"S2\"\u001b[0m\u001b[1;33m]\u001b[0m\u001b[1;33m)\u001b[0m\u001b[1;33m\u001b[0m\u001b[1;33m\u001b[0m\u001b[0m\n\u001b[0m\u001b[0;32m     24\u001b[0m \u001b[1;33m\u001b[0m\u001b[0m\n\u001b[0;32m     25\u001b[0m         \u001b[0mdf\u001b[0m\u001b[1;33m.\u001b[0m\u001b[0mto_excel\u001b[0m\u001b[1;33m(\u001b[0m\u001b[0mos\u001b[0m\u001b[1;33m.\u001b[0m\u001b[0mpath\u001b[0m\u001b[1;33m.\u001b[0m\u001b[0mjoin\u001b[0m\u001b[1;33m(\u001b[0m\u001b[0mGPS_Points\u001b[0m\u001b[1;33m,\u001b[0m\u001b[0mos\u001b[0m\u001b[1;33m.\u001b[0m\u001b[0mpath\u001b[0m\u001b[1;33m.\u001b[0m\u001b[0mbasename\u001b[0m\u001b[1;33m(\u001b[0m\u001b[0mfiles\u001b[0m\u001b[1;33m)\u001b[0m\u001b[1;33m)\u001b[0m\u001b[1;33m,\u001b[0m\u001b[0mengine\u001b[0m\u001b[1;33m=\u001b[0m\u001b[1;34m\"xlsxwriter\"\u001b[0m\u001b[1;33m)\u001b[0m\u001b[1;33m\u001b[0m\u001b[1;33m\u001b[0m\u001b[0m\n",
      "\u001b[1;32m~\\anaconda3\\lib\\site-packages\\pandas\\core\\frame.py\u001b[0m in \u001b[0;36mdrop\u001b[1;34m(self, labels, axis, index, columns, level, inplace, errors)\u001b[0m\n\u001b[0;32m   4158\u001b[0m                 \u001b[0mweight\u001b[0m  \u001b[1;36m1.0\u001b[0m     \u001b[1;36m0.8\u001b[0m\u001b[1;33m\u001b[0m\u001b[1;33m\u001b[0m\u001b[0m\n\u001b[0;32m   4159\u001b[0m         \"\"\"\n\u001b[1;32m-> 4160\u001b[1;33m         return super().drop(\n\u001b[0m\u001b[0;32m   4161\u001b[0m             \u001b[0mlabels\u001b[0m\u001b[1;33m=\u001b[0m\u001b[0mlabels\u001b[0m\u001b[1;33m,\u001b[0m\u001b[1;33m\u001b[0m\u001b[1;33m\u001b[0m\u001b[0m\n\u001b[0;32m   4162\u001b[0m             \u001b[0maxis\u001b[0m\u001b[1;33m=\u001b[0m\u001b[0maxis\u001b[0m\u001b[1;33m,\u001b[0m\u001b[1;33m\u001b[0m\u001b[1;33m\u001b[0m\u001b[0m\n",
      "\u001b[1;32m~\\anaconda3\\lib\\site-packages\\pandas\\core\\generic.py\u001b[0m in \u001b[0;36mdrop\u001b[1;34m(self, labels, axis, index, columns, level, inplace, errors)\u001b[0m\n\u001b[0;32m   3876\u001b[0m         \u001b[1;32mfor\u001b[0m \u001b[0maxis\u001b[0m\u001b[1;33m,\u001b[0m \u001b[0mlabels\u001b[0m \u001b[1;32min\u001b[0m \u001b[0maxes\u001b[0m\u001b[1;33m.\u001b[0m\u001b[0mitems\u001b[0m\u001b[1;33m(\u001b[0m\u001b[1;33m)\u001b[0m\u001b[1;33m:\u001b[0m\u001b[1;33m\u001b[0m\u001b[1;33m\u001b[0m\u001b[0m\n\u001b[0;32m   3877\u001b[0m             \u001b[1;32mif\u001b[0m \u001b[0mlabels\u001b[0m \u001b[1;32mis\u001b[0m \u001b[1;32mnot\u001b[0m \u001b[1;32mNone\u001b[0m\u001b[1;33m:\u001b[0m\u001b[1;33m\u001b[0m\u001b[1;33m\u001b[0m\u001b[0m\n\u001b[1;32m-> 3878\u001b[1;33m                 \u001b[0mobj\u001b[0m \u001b[1;33m=\u001b[0m \u001b[0mobj\u001b[0m\u001b[1;33m.\u001b[0m\u001b[0m_drop_axis\u001b[0m\u001b[1;33m(\u001b[0m\u001b[0mlabels\u001b[0m\u001b[1;33m,\u001b[0m \u001b[0maxis\u001b[0m\u001b[1;33m,\u001b[0m \u001b[0mlevel\u001b[0m\u001b[1;33m=\u001b[0m\u001b[0mlevel\u001b[0m\u001b[1;33m,\u001b[0m \u001b[0merrors\u001b[0m\u001b[1;33m=\u001b[0m\u001b[0merrors\u001b[0m\u001b[1;33m)\u001b[0m\u001b[1;33m\u001b[0m\u001b[1;33m\u001b[0m\u001b[0m\n\u001b[0m\u001b[0;32m   3879\u001b[0m \u001b[1;33m\u001b[0m\u001b[0m\n\u001b[0;32m   3880\u001b[0m         \u001b[1;32mif\u001b[0m \u001b[0minplace\u001b[0m\u001b[1;33m:\u001b[0m\u001b[1;33m\u001b[0m\u001b[1;33m\u001b[0m\u001b[0m\n",
      "\u001b[1;32m~\\anaconda3\\lib\\site-packages\\pandas\\core\\generic.py\u001b[0m in \u001b[0;36m_drop_axis\u001b[1;34m(self, labels, axis, level, errors)\u001b[0m\n\u001b[0;32m   3910\u001b[0m                 \u001b[0mnew_axis\u001b[0m \u001b[1;33m=\u001b[0m \u001b[0maxis\u001b[0m\u001b[1;33m.\u001b[0m\u001b[0mdrop\u001b[0m\u001b[1;33m(\u001b[0m\u001b[0mlabels\u001b[0m\u001b[1;33m,\u001b[0m \u001b[0mlevel\u001b[0m\u001b[1;33m=\u001b[0m\u001b[0mlevel\u001b[0m\u001b[1;33m,\u001b[0m \u001b[0merrors\u001b[0m\u001b[1;33m=\u001b[0m\u001b[0merrors\u001b[0m\u001b[1;33m)\u001b[0m\u001b[1;33m\u001b[0m\u001b[1;33m\u001b[0m\u001b[0m\n\u001b[0;32m   3911\u001b[0m             \u001b[1;32melse\u001b[0m\u001b[1;33m:\u001b[0m\u001b[1;33m\u001b[0m\u001b[1;33m\u001b[0m\u001b[0m\n\u001b[1;32m-> 3912\u001b[1;33m                 \u001b[0mnew_axis\u001b[0m \u001b[1;33m=\u001b[0m \u001b[0maxis\u001b[0m\u001b[1;33m.\u001b[0m\u001b[0mdrop\u001b[0m\u001b[1;33m(\u001b[0m\u001b[0mlabels\u001b[0m\u001b[1;33m,\u001b[0m \u001b[0merrors\u001b[0m\u001b[1;33m=\u001b[0m\u001b[0merrors\u001b[0m\u001b[1;33m)\u001b[0m\u001b[1;33m\u001b[0m\u001b[1;33m\u001b[0m\u001b[0m\n\u001b[0m\u001b[0;32m   3913\u001b[0m             \u001b[0mresult\u001b[0m \u001b[1;33m=\u001b[0m \u001b[0mself\u001b[0m\u001b[1;33m.\u001b[0m\u001b[0mreindex\u001b[0m\u001b[1;33m(\u001b[0m\u001b[1;33m**\u001b[0m\u001b[1;33m{\u001b[0m\u001b[0maxis_name\u001b[0m\u001b[1;33m:\u001b[0m \u001b[0mnew_axis\u001b[0m\u001b[1;33m}\u001b[0m\u001b[1;33m)\u001b[0m\u001b[1;33m\u001b[0m\u001b[1;33m\u001b[0m\u001b[0m\n\u001b[0;32m   3914\u001b[0m \u001b[1;33m\u001b[0m\u001b[0m\n",
      "\u001b[1;32m~\\anaconda3\\lib\\site-packages\\pandas\\core\\indexes\\base.py\u001b[0m in \u001b[0;36mdrop\u001b[1;34m(self, labels, errors)\u001b[0m\n\u001b[0;32m   5274\u001b[0m         \u001b[1;32mif\u001b[0m \u001b[0mmask\u001b[0m\u001b[1;33m.\u001b[0m\u001b[0many\u001b[0m\u001b[1;33m(\u001b[0m\u001b[1;33m)\u001b[0m\u001b[1;33m:\u001b[0m\u001b[1;33m\u001b[0m\u001b[1;33m\u001b[0m\u001b[0m\n\u001b[0;32m   5275\u001b[0m             \u001b[1;32mif\u001b[0m \u001b[0merrors\u001b[0m \u001b[1;33m!=\u001b[0m \u001b[1;34m\"ignore\"\u001b[0m\u001b[1;33m:\u001b[0m\u001b[1;33m\u001b[0m\u001b[1;33m\u001b[0m\u001b[0m\n\u001b[1;32m-> 5276\u001b[1;33m                 \u001b[1;32mraise\u001b[0m \u001b[0mKeyError\u001b[0m\u001b[1;33m(\u001b[0m\u001b[1;34mf\"{labels[mask]} not found in axis\"\u001b[0m\u001b[1;33m)\u001b[0m\u001b[1;33m\u001b[0m\u001b[1;33m\u001b[0m\u001b[0m\n\u001b[0m\u001b[0;32m   5277\u001b[0m             \u001b[0mindexer\u001b[0m \u001b[1;33m=\u001b[0m \u001b[0mindexer\u001b[0m\u001b[1;33m[\u001b[0m\u001b[1;33m~\u001b[0m\u001b[0mmask\u001b[0m\u001b[1;33m]\u001b[0m\u001b[1;33m\u001b[0m\u001b[1;33m\u001b[0m\u001b[0m\n\u001b[0;32m   5278\u001b[0m         \u001b[1;32mreturn\u001b[0m \u001b[0mself\u001b[0m\u001b[1;33m.\u001b[0m\u001b[0mdelete\u001b[0m\u001b[1;33m(\u001b[0m\u001b[0mindexer\u001b[0m\u001b[1;33m)\u001b[0m\u001b[1;33m\u001b[0m\u001b[1;33m\u001b[0m\u001b[0m\n",
      "\u001b[1;31mKeyError\u001b[0m: \"['Point' 'X' 'Y' 'D1' 'M1' 'S1' 'D2' 'M2' 'S2'] not found in axis\""
     ]
    }
   ],
   "source": [
    "col_name=[\"Soil_Num\",\"Point\",\"X\",\"Y\",\"Commune\",\"Topo\",\"Weather\",\"Soil\",\"Soil_Depth\",\"Water\",\"Flood\",\"Note\"]\n",
    "col_name1=[\"Soil_Num\",\"Soil_SubCode\",\"Point\",\"Commune\",\"Topo\",\"Weather\",\"Soil\",\"Soil_Depth\",\"Water\",\"Flood\",\"Note\"]\n",
    "for files in os.listdir(path):\n",
    "    if files.endswith(\"1.xlsx\"):\n",
    "        df=pd.read_excel(os.path.join(path,files),names=col_name)\n",
    "        df[\"X\"]=df.X.str.replace(\",\",\".\").str.replace(\"° \",\"_\").str.replace(\"\\' \",\"_\").str.replace(\"\\\"\",\"\").str.replace(\"\\''\",\"\")\n",
    "        df[\"Y\"]=df.Y.str.replace(\",\",\".\").str.replace(\"° \",\"_\").str.replace(\"\\' \",\"_\").str.replace(\"\\\"\",\"\").str.replace(\"\\''\",\"\")\n",
    "        df[[\"D1\",\"M1\",\"S1\"]]=df.X.str.split(\"_\",expand=True)\n",
    "        df[[\"D2\",\"M2\",\"S2\"]]=df.Y.str.split(\"_\",expand=True)\n",
    "        X1=[]\n",
    "        Y1=[]\n",
    "        District=[]\n",
    "        \n",
    "\n",
    "        for eachline in range(len(df)):\n",
    "            X1.append(float(df.D1[eachline]) + (float(df.M1[eachline])/60) + (float(df.S1[eachline]))/3600)\n",
    "            Y1.append(float(df.D2[eachline]) + (float(df.M2[eachline])/60) + (float(df.S2[eachline]))/3600)\n",
    "            District.append(os.path.basename(files[0:-6]))\n",
    "    \n",
    "        df[\"X1\"]=X1\n",
    "        df[\"Y1\"]=Y1\n",
    "        df[\"District\"]=District\n",
    "        df=df.drop([\"Point\",\"X\",\"Y\",\"D1\",\"M1\",\"S1\",\"D2\",\"M2\",\"S2\"])\n",
    "        \n",
    "        df.to_excel(os.path.join(GPS_Points,os.path.basename(files)),engine=\"xlsxwriter\")\n",
    "        \n",
    "    else:\n",
    "                \n",
    "        df=pd.read_excel(os.path.join(path,files),names=col_name1)\n",
    "        df[[\"X\",\"Y\"]]=df.Point.str.split(\"\\nE\",expand=True)\n",
    "        df[[\"X\",\"Y\"]]=df.Point.str.split(\"\\nE\",expand=True)\n",
    "        df[\"X\"]=df.X.str.replace(\"N\",\"\").str.replace(\"°\",\"_\").str.replace(\"\\'\",\"_\").str.replace(\"\\\"\",\"\").str.replace(\",\",\".\")\n",
    "        df[\"Y\"]=df.Y.str.replace(\"N\",\"\").str.replace(\"°\",\"_\").str.replace(\"\\'\",\"_\").str.replace(\"\\\"\",\"\").str.replace(\",\",\".\")\n",
    "        df[[\"D1\",\"M1\",\"S1\"]]=df.X.str.split(\"_\",expand=True)\n",
    "        df[[\"D2\",\"M2\",\"S2\"]]=df.Y.str.split(\"_\",expand=True)\n",
    "        X1=[]\n",
    "        Y1=[]\n",
    "        District=[]\n",
    "\n",
    "        for lines in range(len(df)):\n",
    "            X1.append(float(df.D1[lines]) + (float(df.M1[lines])/60) + (float(df.S1[lines]))/3600)\n",
    "            Y1.append(float(df.D2[lines]) + (float(df.M2[lines])/60) + (float(df.S2[lines]))/3600)\n",
    "            District.append(os.path.basename(files[0:-9]))\n",
    "    \n",
    "        df[\"X1\"]=X1\n",
    "        df[\"Y1\"]=Y1\n",
    "        df[\"District\"]=District\n",
    "        df=df.drop([\"Point\",\"X\",\"Y\",\"D1\",\"M1\",\"S1\",\"D2\",\"M2\",\"S2\"],axis=1)\n",
    "        df.to_excel(os.path.join(GPS_Points,os.path.basename(files)),engine=\"xlsxwriter\")\n",
    "        "
   ]
  },
  {
   "cell_type": "markdown",
   "metadata": {},
   "source": [
    "###### Run for raw fiels"
   ]
  },
  {
   "cell_type": "code",
   "execution_count": 15,
   "metadata": {},
   "outputs": [],
   "source": [
    "\n",
    "col_name1=[\"Soil_Num\",\"Soil_SubCode\",\"Point\",\"Commune\",\"Topo\",\"Weather\",\"Soil\",\"Soil_Depth\",\"Water\",\"Flood\",\"Note\"]\n",
    "\n",
    "for files in os.listdir(path):\n",
    "    \n",
    "    if files.endswith(\"raw.xlsx\"):\n",
    "        \n",
    "        df=pd.read_excel(os.path.join(path,files),names=col_name1)\n",
    "        df[[\"X\",\"Y\"]]=df.Point.str.split(\"\\nE\",expand=True)\n",
    "        df[[\"X\",\"Y\"]]=df.Point.str.split(\"\\nE\",expand=True)\n",
    "        df[\"X\"]=df.X.str.replace(\"N\",\"\").str.replace(\"°\",\"_\").str.replace(\"\\'\",\"_\").str.replace(\"\\\"\",\"\").str.replace(\",\",\".\")\n",
    "        df[\"Y\"]=df.Y.str.replace(\"N\",\"\").str.replace(\"°\",\"_\").str.replace(\"\\'\",\"_\").str.replace(\"\\\"\",\"\").str.replace(\",\",\".\")\n",
    "        df[[\"D1\",\"M1\",\"S1\"]]=df.X.str.split(\"_\",expand=True)\n",
    "        df[[\"D2\",\"M2\",\"S2\"]]=df.Y.str.split(\"_\",expand=True)\n",
    "        X1=[]\n",
    "        Y1=[]\n",
    "        District=[]\n",
    "\n",
    "        for lines in range(len(df)):\n",
    "            X1.append(float(df.D1[lines]) + (float(df.M1[lines])/60) + (float(df.S1[lines]))/3600)\n",
    "            Y1.append(float(df.D2[lines]) + (float(df.M2[lines])/60) + (float(df.S2[lines]))/3600)\n",
    "            District.append(os.path.basename(files[0:-9]))\n",
    "    \n",
    "        df[\"X1\"]=X1\n",
    "        df[\"Y1\"]=Y1\n",
    "        df[\"District\"]=District\n",
    "        df=df.drop([\"Point\",\"X\",\"Y\",\"D1\",\"M1\",\"S1\",\"D2\",\"M2\",\"S2\"],axis=1)\n",
    "        df.to_excel(os.path.join(GPS_Points,os.path.basename(files)),engine=\"xlsxwriter\")\n",
    "    else:\n",
    "        pass"
   ]
  },
  {
   "cell_type": "markdown",
   "metadata": {},
   "source": [
    "## 2. Marge all excel files to one"
   ]
  },
  {
   "cell_type": "code",
   "execution_count": 3,
   "metadata": {},
   "outputs": [],
   "source": [
    "df={\"Soil_Num\":[],\"Soil_SubCode\":[],\"Commune\":[],\"Topo\":[],\"Weather\":[],\"Soil\":[],\"Soil_Depth\":[],\"Water\":[],\"Flood\":[],\\\n",
    "    \"Note\":[],\"X1\":[],\"Y1\":[],\"District\":[]}\n",
    "for eachfile in os.listdir(GPS_Points):\n",
    "    if eachfile.endswith(\".xlsx\"):\n",
    "        df1=pd.read_excel(os.path.join(GPS_Points,eachfile),index_col=0)\n",
    "        for eachline in range(len(df1)):\n",
    "            df[\"Soil_Num\"].append(df1.Soil_Num[eachline])\n",
    "            df[\"Soil_SubCode\"].append(df1.Soil_SubCode[eachline])\n",
    "            df[\"Commune\"].append(df1.Commune[eachline])\n",
    "            df[\"Topo\"].append(df1.Topo[eachline])\n",
    "            df[\"Weather\"].append(df1.Weather[eachline])\n",
    "            df[\"Soil\"].append(df1.Soil[eachline])\n",
    "            df[\"Soil_Depth\"].append(df1.Soil_Depth[eachline])\n",
    "            df[\"Water\"].append(df1.Water[eachline])\n",
    "            df[\"Flood\"].append(df1.Flood[eachline])\n",
    "            df[\"Note\"].append(df1.Note[eachline])\n",
    "            df[\"X1\"].append(df1.X1[eachline])\n",
    "            df[\"Y1\"].append(df1.Y1[eachline])\n",
    "            df[\"District\"].append(df1.District[eachline])\n",
    "    else:\n",
    "        pass\n",
    "\n",
    "df_Total=pd.DataFrame(df)\n",
    "df_Total.to_excel(os.path.join(GPS_Points,\"DF.xlsx\"),engine=\"xlsxwriter\")\n"
   ]
  },
  {
   "cell_type": "code",
   "execution_count": null,
   "metadata": {},
   "outputs": [],
   "source": []
  }
 ],
 "metadata": {
  "kernelspec": {
   "display_name": "Python 3",
   "language": "python",
   "name": "python3"
  },
  "language_info": {
   "codemirror_mode": {
    "name": "ipython",
    "version": 3
   },
   "file_extension": ".py",
   "mimetype": "text/x-python",
   "name": "python",
   "nbconvert_exporter": "python",
   "pygments_lexer": "ipython3",
   "version": "3.8.5"
  }
 },
 "nbformat": 4,
 "nbformat_minor": 4
}
