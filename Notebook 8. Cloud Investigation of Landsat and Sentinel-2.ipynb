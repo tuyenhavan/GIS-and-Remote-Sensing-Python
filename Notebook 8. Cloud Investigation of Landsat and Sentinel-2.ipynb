{
 "cells": [
  {
   "cell_type": "code",
   "execution_count": 1,
   "id": "e8de3d9b",
   "metadata": {},
   "outputs": [
    {
     "data": {
      "text/html": [
       "<p>To authorize access needed by Earth Engine, open the following\n",
       "        URL in a web browser and follow the instructions:</p>\n",
       "        <p><a href=https://code.earthengine.google.com/client-auth?scopes=https%3A//www.googleapis.com/auth/earthengine%20https%3A//www.googleapis.com/auth/devstorage.full_control&request_id=RvLhqLmDbxEjw9wr_xEspjJf4OVydalh2oculE0gNCs&tc=Mvfm3HoGfnz2o87RTFm558t5BET98czWjgE1AOPjReM&cc=BEpfjs3YV4X74eugC74UNEHaWfh_2PsUmPzmcJ8OPkE>https://code.earthengine.google.com/client-auth?scopes=https%3A//www.googleapis.com/auth/earthengine%20https%3A//www.googleapis.com/auth/devstorage.full_control&request_id=RvLhqLmDbxEjw9wr_xEspjJf4OVydalh2oculE0gNCs&tc=Mvfm3HoGfnz2o87RTFm558t5BET98czWjgE1AOPjReM&cc=BEpfjs3YV4X74eugC74UNEHaWfh_2PsUmPzmcJ8OPkE</a></p>\n",
       "        <p>The authorization workflow will generate a code, which you\n",
       "        should paste in the box below</p>\n",
       "        "
      ],
      "text/plain": [
       "<IPython.core.display.HTML object>"
      ]
     },
     "metadata": {},
     "output_type": "display_data"
    },
    {
     "name": "stdout",
     "output_type": "stream",
     "text": [
      "Enter verification code: 4/1AWtgzh6iC5kN5lmkrZlOdfpkR3d_NEGq6oA4VKo6L5etDRBmqWPGz3No2jA\n",
      "\n",
      "Successfully saved authorization token.\n"
     ]
    }
   ],
   "source": [
    "import modis\n",
    "import ee\n",
    "import datetime as dt\n",
    "import pfast\n",
    "import geemap as emap"
   ]
  },
  {
   "cell_type": "code",
   "execution_count": 2,
   "id": "d45aec48",
   "metadata": {},
   "outputs": [],
   "source": [
    "Map=emap.Map()\n",
    "# Load the study area\n",
    "vn=ee.FeatureCollection(\"users/miketu72/VN_Map\")"
   ]
  },
  {
   "cell_type": "markdown",
   "id": "32e0a5af",
   "metadata": {},
   "source": [
    "- **This notebook aims to extract cloud cover percent over the period of 2015 to 2021.**\n",
    "\n",
    "Each image has one band called quality band and Landsat 8 named it QA_PIXEL. So the idea is to access bits 8-9 and get the high cloud confidence and assigned it to 1. Finally, we can map over all images in the collection and calculate the percentage of cloud confidence per pixel."
   ]
  },
  {
   "cell_type": "markdown",
   "id": "acae2560",
   "metadata": {},
   "source": [
    "# 1. Landsat Collection"
   ]
  },
  {
   "cell_type": "markdown",
   "id": "ff4155f0",
   "metadata": {},
   "source": [
    "This example demonstrates the use of the Landsat 8 Collection 2, Level 2 `QA_PIXEL` band (CFMask) to mask unwanted pixels."
   ]
  },
  {
   "cell_type": "code",
   "execution_count": 3,
   "id": "93eaf62a",
   "metadata": {},
   "outputs": [],
   "source": [
    "ls8=ee.ImageCollection(\"LANDSAT/LC08/C02/T1_L2\").filterBounds(vn).filterDate(\"2016\",\"2022\")"
   ]
  },
  {
   "cell_type": "code",
   "execution_count": 4,
   "id": "286728de",
   "metadata": {},
   "outputs": [],
   "source": [
    "def ls8_cloud_mask(img):\n",
    "    \"\"\" Mask cloud and cloud shadow pixels from Landsat 8 Collection 2 Surface Reflectance LANDSAT/LC08/C02/T1_L2\n",
    "    \n",
    "        Args:\n",
    "            - img (ee.Image): An input Landsat 8 SR\n",
    "        \n",
    "        Returns:\n",
    "            - An image (ee.Image): The image without cloud and cloud shadow pixels. \n",
    "    \"\"\"\n",
    "    \n",
    "    qa=img.select('QA_PIXEL')\n",
    "    \n",
    "    cloud_bit_mask=ee.Number(2).pow(5).int()\n",
    "    shadow_bit_mask=ee.Number(2).pow(3).int()\n",
    "    \n",
    "    cloud_mask=qa.bitwiseAnd(cloud_bit_mask).eq(0)\n",
    "    shadow_mask=qa.bitwiseAnd(shadow_bit_mask).eq(0)\n",
    "    \n",
    "    mask=cloud_mask.And(shadow_mask)\n",
    "    return img.updateMask(mask)"
   ]
  },
  {
   "cell_type": "code",
   "execution_count": 5,
   "id": "547f0fac",
   "metadata": {},
   "outputs": [],
   "source": [
    "def cloud_pixel(img):\n",
    "    \"\"\"\n",
    "        Converts masked values (None) in an ee.Image to be 1 and all other values to be 0.\n",
    "    \n",
    "        Args:\n",
    "            - img (ee.Image): The input image.\n",
    "    \n",
    "        Returns:\n",
    "            - An image (ee.Image): The image with masked values converted to 1 and all other values converted to None.\n",
    "    \"\"\"\n",
    "    # Create a binary mask from the original image\n",
    "    binary_mask = img.mask().Not()\n",
    "    \n",
    "    # Use the binary mask to convert masked values in the original image to 1\n",
    "    out_bin = binary_mask.where(binary_mask, 1).where(img.mask(), 0)\n",
    "    out_clip=out_bin.clip(img.geometry())\n",
    "    \n",
    "    out_mask=out_clip.eq(1)\n",
    "    out_img=out_clip.updateMask(out_mask)\n",
    "    \n",
    "    # Set the spatial extent of the output image to be the same as the input image\n",
    "    return out_img.rename(\"cloud_band\")"
   ]
  },
  {
   "cell_type": "code",
   "execution_count": 6,
   "id": "8460def2",
   "metadata": {},
   "outputs": [],
   "source": [
    "def cloud_free_pixel(img):\n",
    "    \"\"\"\n",
    "        Converts all non-masked values in an ee.Image to be equal to 1 and all masked values to be None.\n",
    "    \n",
    "        Args:\n",
    "            - img (ee.Image): The input image.\n",
    "    \n",
    "        Returns:\n",
    "            - ee.Image: The converted image.\n",
    "    \"\"\"\n",
    "    out_img=img.mask()\n",
    "    \n",
    "    return out_img.clip(img.geometry()).rename(\"cloudless_band\")"
   ]
  },
  {
   "cell_type": "code",
   "execution_count": 8,
   "id": "496007a4",
   "metadata": {},
   "outputs": [],
   "source": [
    "# Get cloud free images\n",
    "cloudless_col_ls8=ls8.map(ls8_cloud_mask).select(\"SR_B3\")"
   ]
  },
  {
   "cell_type": "markdown",
   "id": "ddd533b9",
   "metadata": {},
   "source": [
    "- **The percentage of monthly cloud-free pixels from 2016 to 2022**"
   ]
  },
  {
   "cell_type": "code",
   "execution_count": 9,
   "id": "495725dc",
   "metadata": {},
   "outputs": [],
   "source": [
    "# Convert cloud pixels to be 1 and all other values to be None\n",
    "cloud_free_pixel_col=cloudless_col_ls8.map(cloud_free_pixel)"
   ]
  },
  {
   "cell_type": "code",
   "execution_count": 16,
   "id": "9457c6f5",
   "metadata": {},
   "outputs": [],
   "source": [
    "month_list=ee.List.sequence(1,12)\n",
    "\n",
    "def monthly_free_cloud(month):\n",
    "    sub_col=cloud_free_pixel_col.filter(ee.Filter.calendarRange(month,month,\"month\"))\n",
    "    index=ee.Number(month)\n",
    "    sub_col_percent=sub_col.sum().divide(sub_col.size()).multiply(100).set({\"month\":index})\n",
    "    return sub_col_percent.rename(\"cloud_free\").clip(vn)\n",
    "\n",
    "monthly_cloudless_percent=ee.ImageCollection.fromImages(month_list.map(monthly_free_cloud))"
   ]
  },
  {
   "cell_type": "markdown",
   "id": "3442fb33",
   "metadata": {},
   "source": [
    "- Exceed user limit and mannual operations"
   ]
  },
  {
   "cell_type": "code",
   "execution_count": 17,
   "id": "a066a41c",
   "metadata": {},
   "outputs": [],
   "source": [
    "from collections import namedtuple\n",
    "\n",
    "cloudless_percent_list=[]\n",
    "\n",
    "for i in range(1,13):\n",
    "    thang=cloud_free_pixel_col.filter(ee.Filter.calendarRange(i,i,\"month\"))\n",
    "    size_col=thang.size()\n",
    "    out_img=thang.sum().divide(size_col).multiply(100).clip(vn)\n",
    "    cloudless_percent_list.append((str(i),out_img))"
   ]
  },
  {
   "cell_type": "code",
   "execution_count": 19,
   "id": "83c10a5a",
   "metadata": {},
   "outputs": [
    {
     "data": {
      "application/vnd.jupyter.widget-view+json": {
       "model_id": "7702939a119f48b182b7bd01f80bd46a",
       "version_major": 2,
       "version_minor": 0
      },
      "text/plain": [
       "Map(center=[16.28, 106.8], controls=(WidgetControl(options=['position', 'transparent_bg'], widget=HBox(childre…"
      ]
     },
     "metadata": {},
     "output_type": "display_data"
    }
   ],
   "source": [
    "Map=emap.Map()\n",
    "Map.setCenter(106.8,16.28,6)\n",
    "# vis_params = {'bands': ['cloudless_band'], 'palette': ['5e4fa2', ' 3683bb', ' 5db7a9', ' 98d6a4', ' d1ec9c', ' f4faad', ' fff1a7', ' fece7c', ' fb9c59', ' ee6445', ' d0384e', ' 9e0142'], 'min': 0.0, 'max': 100.0}\n",
    "vis_params = {'bands': ['cloud_free'], 'palette': ['5e4fa2', ' 3683bb', ' 5db7a9', ' 98d6a4', ' d1ec9c', ' f4faad', ' fff1a7', ' fece7c', ' fb9c59', ' ee6445', ' d0384e', ' 9e0142'], 'min': 0, 'max':9}\n",
    "Map.addLayer(monthly_cloudless_percent.first(),vis_params,\"Landsat Cloud-free Percent\")\n",
    "Map"
   ]
  },
  {
   "cell_type": "code",
   "execution_count": null,
   "id": "b10a27b0",
   "metadata": {},
   "outputs": [],
   "source": []
  }
 ],
 "metadata": {
  "kernelspec": {
   "display_name": "Python 3 (ipykernel)",
   "language": "python",
   "name": "python3"
  },
  "language_info": {
   "codemirror_mode": {
    "name": "ipython",
    "version": 3
   },
   "file_extension": ".py",
   "mimetype": "text/x-python",
   "name": "python",
   "nbconvert_exporter": "python",
   "pygments_lexer": "ipython3",
   "version": "3.8.10"
  },
  "varInspector": {
   "cols": {
    "lenName": 16,
    "lenType": 16,
    "lenVar": 40
   },
   "kernels_config": {
    "python": {
     "delete_cmd_postfix": "",
     "delete_cmd_prefix": "del ",
     "library": "var_list.py",
     "varRefreshCmd": "print(var_dic_list())"
    },
    "r": {
     "delete_cmd_postfix": ") ",
     "delete_cmd_prefix": "rm(",
     "library": "var_list.r",
     "varRefreshCmd": "cat(var_dic_list()) "
    }
   },
   "types_to_exclude": [
    "module",
    "function",
    "builtin_function_or_method",
    "instance",
    "_Feature"
   ],
   "window_display": false
  }
 },
 "nbformat": 4,
 "nbformat_minor": 5
}
